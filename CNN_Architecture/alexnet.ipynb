{
 "cells": [
  {
   "cell_type": "markdown",
   "id": "bd1deef4",
   "metadata": {
    "papermill": {
     "duration": 0.002883,
     "end_time": "2025-10-08T05:23:28.599179",
     "exception": false,
     "start_time": "2025-10-08T05:23:28.596296",
     "status": "completed"
    },
    "tags": []
   },
   "source": [
    "## AlexNet"
   ]
  },
  {
   "cell_type": "markdown",
   "id": "c554a08b",
   "metadata": {
    "papermill": {
     "duration": 0.001852,
     "end_time": "2025-10-08T05:23:28.603294",
     "exception": false,
     "start_time": "2025-10-08T05:23:28.601442",
     "status": "completed"
    },
    "tags": []
   },
   "source": [
    "Mô hình AlexNet\n",
    "\n",
    "\n",
    "| Lớp | Loại                      | Kích thước đầu vào | Kích thước đầu ra | Ghi chú              |\n",
    "| --- | ------------------------- | ------------------ | ----------------- | -------------------- |\n",
    "| 1   | Conv(11×11, 96, stride=4) | 227×227×3          | 55×55×96          | Đặc trưng thấp       |\n",
    "| 2   | MaxPool(3×3, stride=2)    | 55×55×96           | 27×27×96          | Giảm kích thước      |\n",
    "| 3   | Conv(5×5, 256, pad=2)     | 27×27×96           | 27×27×256         | Đặc trưng trung bình |\n",
    "| 4   | MaxPool(3×3, stride=2)    | 27×27×256          | 13×13×256         |                      |\n",
    "| 5   | Conv(3×3, 384)            | 13×13×256          | 13×13×384         |                      |\n",
    "| 6   | Conv(3×3, 384)            | 13×13×384          | 13×13×384         |                      |\n",
    "| 7   | Conv(3×3, 256)            | 13×13×384          | 13×13×256         |                      |\n",
    "| 8   | MaxPool(3×3, stride=2)    | 13×13×256          | 6×6×256           |                      |\n",
    "| 9   | FC (4096)                 | 9216               | 4096              |                      |\n",
    "| 10  | FC (4096)                 | 4096               | 4096              |                      |\n",
    "| 11  | FC (1000)                 | 4096               | 1000              | Softmax output       |\n"
   ]
  },
  {
   "cell_type": "code",
   "execution_count": 1,
   "id": "2661630b",
   "metadata": {
    "_cell_guid": "b1076dfc-b9ad-4769-8c92-a6c4dae69d19",
    "_uuid": "8f2839f25d086af736a60e9eeb907d3b93b6e0e5",
    "execution": {
     "iopub.execute_input": "2025-10-08T05:23:28.608717Z",
     "iopub.status.busy": "2025-10-08T05:23:28.608482Z",
     "iopub.status.idle": "2025-10-08T05:23:28.613246Z",
     "shell.execute_reply": "2025-10-08T05:23:28.612659Z"
    },
    "papermill": {
     "duration": 0.008876,
     "end_time": "2025-10-08T05:23:28.614311",
     "exception": false,
     "start_time": "2025-10-08T05:23:28.605435",
     "status": "completed"
    },
    "tags": []
   },
   "outputs": [],
   "source": [
    "# from tensorflow.keras.models import Sequential\n",
    "# from tensorflow.keras.layers import Dense, Conv2D, Flatten, MaxPooling2D, Dropout, BatchNormalization\n",
    "# from tensorflow.keras.optimizers import Adam\n",
    "# import tensorflow as tf\n",
    "\n",
    "# def AlexNet(input_shape=(224, 224, 3), classes=1000, learning_rate=0.0001, drop_rate=0.5):\n",
    "#     \"\"\"\n",
    "#     Optimized implementation of AlexNet architecture using Sequential API.\n",
    "\n",
    "#     Arguments:\n",
    "#         input_shape -- shape of the input images (default: (224, 224, 3))\n",
    "#         classes     -- number of output classes (default: 1000)\n",
    "#         learning_rate -- learning rate for Adam optimizer (default: 0.0001)\n",
    "#         drop_rate   -- dropout rate for fully connected layers (default: 0.5)\n",
    "\n",
    "#     Returns:\n",
    "#         model       -- compiled Keras Sequential model\n",
    "#     \"\"\"\n",
    "#     # Initialize Adam optimizer\n",
    "#     adam = Adam(learning_rate=learning_rate)\n",
    "    \n",
    "#     # Create Sequential model\n",
    "#     model = Sequential(name=\"AlexNet\")\n",
    "    \n",
    "#     # Layer 1: Conv + MaxPool + BatchNorm\n",
    "#     model.add(Conv2D(\n",
    "#         filters=96,\n",
    "#         kernel_size=(11, 11),\n",
    "#         strides=(4, 4),\n",
    "#         activation=\"relu\",\n",
    "#         padding=\"same\",\n",
    "#         kernel_initializer=\"he_normal\",\n",
    "#         input_shape=input_shape\n",
    "#     ))\n",
    "#     model.add(MaxPooling2D(pool_size=(3, 3), strides=(2, 2)))\n",
    "#     model.add(BatchNormalization())\n",
    "    \n",
    "#     # Layer 2: Conv + MaxPool + BatchNorm\n",
    "#     model.add(Conv2D(\n",
    "#         filters=256,\n",
    "#         kernel_size=(5, 5),\n",
    "#         strides=(1, 1),\n",
    "#         activation=\"relu\",\n",
    "#         padding=\"same\",\n",
    "#         kernel_initializer=\"he_normal\"\n",
    "#     ))\n",
    "#     model.add(MaxPooling2D(pool_size=(3, 3), strides=(2, 2)))\n",
    "#     model.add(BatchNormalization())\n",
    "    \n",
    "#     # Layer 3: Conv\n",
    "#     model.add(Conv2D(\n",
    "#         filters=384,\n",
    "#         kernel_size=(3, 3),\n",
    "#         strides=(1, 1),\n",
    "#         activation=\"relu\",\n",
    "#         padding=\"same\",\n",
    "#         kernel_initializer=\"he_normal\"\n",
    "#     ))\n",
    "    \n",
    "#     # Layer 4: Conv\n",
    "#     model.add(Conv2D(\n",
    "#         filters=384,\n",
    "#         kernel_size=(3, 3),\n",
    "#         strides=(1, 1),\n",
    "#         activation=\"relu\",\n",
    "#         padding=\"same\",\n",
    "#         kernel_initializer=\"he_normal\"\n",
    "#     ))\n",
    "    \n",
    "#     # Layer 5: Conv + MaxPool + BatchNorm\n",
    "#     model.add(Conv2D(\n",
    "#         filters=256,\n",
    "#         kernel_size=(3, 3),\n",
    "#         strides=(1, 1),\n",
    "#         activation=\"relu\",\n",
    "#         padding=\"same\",\n",
    "#         kernel_initializer=\"he_normal\"\n",
    "#     ))\n",
    "#     model.add(MaxPooling2D(pool_size=(3, 3), strides=(2, 2)))\n",
    "#     model.add(BatchNormalization())\n",
    "    \n",
    "#     # Fully connected layers\n",
    "#     model.add(Flatten())\n",
    "#     model.add(Dense(4096, activation=\"relu\", kernel_initializer=\"he_normal\"))\n",
    "#     model.add(Dropout(drop_rate))\n",
    "#     model.add(Dense(4096, activation=\"relu\", kernel_initializer=\"he_normal\"))\n",
    "#     model.add(Dropout(drop_rate))\n",
    "#     model.add(Dense(classes, activation=\"softmax\"))\n",
    "    \n",
    "#     # Compile model\n",
    "#     model.compile(\n",
    "#         loss=\"categorical_crossentropy\",\n",
    "#         optimizer=adam,\n",
    "#         metrics=[\"accuracy\"]\n",
    "#     )\n",
    "    \n",
    "#     return model\n",
    "\n"
   ]
  },
  {
   "cell_type": "code",
   "execution_count": 2,
   "id": "ca632e65",
   "metadata": {
    "execution": {
     "iopub.execute_input": "2025-10-08T05:23:28.619453Z",
     "iopub.status.busy": "2025-10-08T05:23:28.619281Z",
     "iopub.status.idle": "2025-10-08T05:23:42.910813Z",
     "shell.execute_reply": "2025-10-08T05:23:42.910212Z"
    },
    "papermill": {
     "duration": 14.295766,
     "end_time": "2025-10-08T05:23:42.912237",
     "exception": false,
     "start_time": "2025-10-08T05:23:28.616471",
     "status": "completed"
    },
    "tags": []
   },
   "outputs": [
    {
     "name": "stderr",
     "output_type": "stream",
     "text": [
      "2025-10-08 05:23:30.063737: E external/local_xla/xla/stream_executor/cuda/cuda_fft.cc:477] Unable to register cuFFT factory: Attempting to register factory for plugin cuFFT when one has already been registered\n",
      "WARNING: All log messages before absl::InitializeLog() is called are written to STDERR\n",
      "E0000 00:00:1759901010.231800      19 cuda_dnn.cc:8310] Unable to register cuDNN factory: Attempting to register factory for plugin cuDNN when one has already been registered\n",
      "E0000 00:00:1759901010.287738      19 cuda_blas.cc:1418] Unable to register cuBLAS factory: Attempting to register factory for plugin cuBLAS when one has already been registered\n"
     ]
    }
   ],
   "source": [
    "import tensorflow as tf\n",
    "from tensorflow.keras.models import Sequential\n",
    "from tensorflow.keras.layers import Dense, Conv2D, Flatten, MaxPooling2D, Dropout, BatchNormalization\n",
    "from tensorflow.keras.optimizers import Adam\n",
    "from tensorflow.keras.preprocessing.image import ImageDataGenerator\n",
    "from tensorflow.keras.callbacks import EarlyStopping, ModelCheckpoint, ReduceLROnPlateau\n",
    "from tensorflow.keras.datasets import cifar10\n",
    "import numpy as np\n",
    "\n",
    "def AlexNet(input_shape=(32, 32, 3), classes=10, learning_rate=0.0001, drop_rate=0.5):\n",
    "    \"\"\"\n",
    "    Adjusted AlexNet architecture for CIFAR-10 with input shape (32, 32, 3) using BatchNormalization.\n",
    "\n",
    "    Arguments:\n",
    "        input_shape -- shape of the input images (default: (32, 32, 3) for CIFAR-10)\n",
    "        classes     -- number of output classes (default: 10 for CIFAR-10)\n",
    "        learning_rate -- learning rate for Adam optimizer (default: 0.0001)\n",
    "        drop_rate   -- dropout rate for fully connected layers (default: 0.5)\n",
    "\n",
    "    Returns:\n",
    "        model       -- compiled Keras Sequential model\n",
    "    \"\"\"\n",
    "    adam = Adam(learning_rate=learning_rate)\n",
    "    model = Sequential(name=\"AlexNet_CIFAR10\")\n",
    "    \n",
    "    # Layer 1: Conv + MaxPool + BatchNorm\n",
    "    model.add(Conv2D(\n",
    "        filters=64, kernel_size=(5, 5), strides=(1, 1), activation=\"relu\",\n",
    "        padding=\"same\", kernel_initializer=\"he_normal\", input_shape=input_shape\n",
    "    ))\n",
    "    model.add(MaxPooling2D(pool_size=(2, 2), strides=(2, 2)))\n",
    "    model.add(BatchNormalization())\n",
    "    \n",
    "    # Layer 2: Conv + MaxPool + BatchNorm\n",
    "    model.add(Conv2D(\n",
    "        filters=128, kernel_size=(3, 3), strides=(1, 1), activation=\"relu\",\n",
    "        padding=\"same\", kernel_initializer=\"he_normal\"\n",
    "    ))\n",
    "    model.add(MaxPooling2D(pool_size=(2, 2), strides=(2, 2)))\n",
    "    model.add(BatchNormalization())\n",
    "    \n",
    "    # Layer 3: Conv\n",
    "    model.add(Conv2D(\n",
    "        filters=192, kernel_size=(3, 3), strides=(1, 1), activation=\"relu\",\n",
    "        padding=\"same\", kernel_initializer=\"he_normal\"\n",
    "    ))\n",
    "    \n",
    "    # Layer 4: Conv\n",
    "    model.add(Conv2D(\n",
    "        filters=192, kernel_size=(3, 3), strides=(1, 1), activation=\"relu\",\n",
    "        padding=\"same\", kernel_initializer=\"he_normal\"\n",
    "    ))\n",
    "    \n",
    "    # Layer 5: Conv + MaxPool + BatchNorm\n",
    "    model.add(Conv2D(\n",
    "        filters=128, kernel_size=(3, 3), strides=(1, 1), activation=\"relu\",\n",
    "        padding=\"same\", kernel_initializer=\"he_normal\"\n",
    "    ))\n",
    "    model.add(MaxPooling2D(pool_size=(2, 2), strides=(2, 2)))\n",
    "    model.add(BatchNormalization())\n",
    "    \n",
    "    # Fully connected layers\n",
    "    model.add(Flatten())\n",
    "    model.add(Dense(1024, activation=\"relu\", kernel_initializer=\"he_normal\"))\n",
    "    model.add(Dropout(drop_rate))\n",
    "    model.add(Dense(1024, activation=\"relu\", kernel_initializer=\"he_normal\"))\n",
    "    model.add(Dropout(drop_rate))\n",
    "    model.add(Dense(classes, activation=\"softmax\"))\n",
    "    \n",
    "    model.compile(\n",
    "        loss=\"categorical_crossentropy\",\n",
    "        optimizer=adam,\n",
    "        metrics=[\"accuracy\"]\n",
    "    )\n",
    "    \n",
    "    return model"
   ]
  },
  {
   "cell_type": "markdown",
   "id": "943b9b94",
   "metadata": {
    "papermill": {
     "duration": 0.001981,
     "end_time": "2025-10-08T05:23:42.916612",
     "exception": false,
     "start_time": "2025-10-08T05:23:42.914631",
     "status": "completed"
    },
    "tags": []
   },
   "source": [
    "---\n",
    "## Áp dụng mô hình"
   ]
  },
  {
   "cell_type": "markdown",
   "id": "f957f5bd",
   "metadata": {
    "papermill": {
     "duration": 0.00188,
     "end_time": "2025-10-08T05:23:42.920589",
     "exception": false,
     "start_time": "2025-10-08T05:23:42.918709",
     "status": "completed"
    },
    "tags": []
   },
   "source": [
    "### Chuẩn bị dữ liệu"
   ]
  },
  {
   "cell_type": "code",
   "execution_count": 3,
   "id": "4deaeeda",
   "metadata": {
    "execution": {
     "iopub.execute_input": "2025-10-08T05:23:42.925726Z",
     "iopub.status.busy": "2025-10-08T05:23:42.925290Z",
     "iopub.status.idle": "2025-10-08T05:23:42.929240Z",
     "shell.execute_reply": "2025-10-08T05:23:42.928729Z"
    },
    "papermill": {
     "duration": 0.007575,
     "end_time": "2025-10-08T05:23:42.930205",
     "exception": false,
     "start_time": "2025-10-08T05:23:42.922630",
     "status": "completed"
    },
    "tags": []
   },
   "outputs": [],
   "source": [
    "import tensorflow as tf\n",
    "from tensorflow.keras.models import Sequential\n",
    "from tensorflow.keras.layers import Dense, Conv2D, Flatten, MaxPooling2D, Dropout, BatchNormalization\n",
    "from tensorflow.keras.optimizers import Adam\n",
    "from tensorflow.keras.preprocessing.image import ImageDataGenerator\n",
    "from tensorflow.keras.callbacks import EarlyStopping, ModelCheckpoint, ReduceLROnPlateau\n",
    "from tensorflow.keras.datasets import cifar10\n",
    "import numpy as np"
   ]
  },
  {
   "cell_type": "code",
   "execution_count": 4,
   "id": "779bb3bb",
   "metadata": {
    "execution": {
     "iopub.execute_input": "2025-10-08T05:23:42.935036Z",
     "iopub.status.busy": "2025-10-08T05:23:42.934835Z",
     "iopub.status.idle": "2025-10-08T05:24:15.529914Z",
     "shell.execute_reply": "2025-10-08T05:24:15.529257Z"
    },
    "papermill": {
     "duration": 32.599039,
     "end_time": "2025-10-08T05:24:15.531280",
     "exception": false,
     "start_time": "2025-10-08T05:23:42.932241",
     "status": "completed"
    },
    "tags": []
   },
   "outputs": [
    {
     "name": "stdout",
     "output_type": "stream",
     "text": [
      "Downloading data from https://www.cs.toronto.edu/~kriz/cifar-10-python.tar.gz\n",
      "\u001b[1m170498071/170498071\u001b[0m \u001b[32m━━━━━━━━━━━━━━━━━━━━\u001b[0m\u001b[37m\u001b[0m \u001b[1m29s\u001b[0m 0us/step\n"
     ]
    }
   ],
   "source": [
    "# Load and preprocess CIFAR-10 dataset\n",
    "(x_train, y_train), (x_test, y_test) = cifar10.load_data()\n",
    "\n",
    "# Normalize pixel values to [0, 1]\n",
    "x_train = x_train.astype('float32') / 255.0\n",
    "x_test = x_test.astype('float32') / 255.0\n",
    "\n",
    "# Convert labels to one-hot encoding\n",
    "y_train = tf.keras.utils.to_categorical(y_train, num_classes=10)\n",
    "y_test = tf.keras.utils.to_categorical(y_test, num_classes=10)\n",
    "\n",
    "# Data augmentation\n",
    "datagen = ImageDataGenerator(\n",
    "    rotation_range=15,\n",
    "    width_shift_range=0.1,\n",
    "    height_shift_range=0.1,\n",
    "    horizontal_flip=True,\n",
    "    fill_mode='nearest'\n",
    ")\n",
    "datagen.fit(x_train)"
   ]
  },
  {
   "cell_type": "markdown",
   "id": "298a58ff",
   "metadata": {
    "papermill": {
     "duration": 0.020741,
     "end_time": "2025-10-08T05:24:15.573852",
     "exception": false,
     "start_time": "2025-10-08T05:24:15.553111",
     "status": "completed"
    },
    "tags": []
   },
   "source": [
    "### Train mô hình"
   ]
  },
  {
   "cell_type": "code",
   "execution_count": 5,
   "id": "4d7fcc4f",
   "metadata": {
    "execution": {
     "iopub.execute_input": "2025-10-08T05:24:15.614110Z",
     "iopub.status.busy": "2025-10-08T05:24:15.613883Z",
     "iopub.status.idle": "2025-10-08T05:24:17.630188Z",
     "shell.execute_reply": "2025-10-08T05:24:17.629444Z"
    },
    "papermill": {
     "duration": 2.037845,
     "end_time": "2025-10-08T05:24:17.631368",
     "exception": false,
     "start_time": "2025-10-08T05:24:15.593523",
     "status": "completed"
    },
    "tags": []
   },
   "outputs": [
    {
     "name": "stderr",
     "output_type": "stream",
     "text": [
      "I0000 00:00:1759901056.370241      19 gpu_device.cc:2022] Created device /job:localhost/replica:0/task:0/device:GPU:0 with 13942 MB memory:  -> device: 0, name: Tesla T4, pci bus id: 0000:00:04.0, compute capability: 7.5\n",
      "I0000 00:00:1759901056.370905      19 gpu_device.cc:2022] Created device /job:localhost/replica:0/task:0/device:GPU:1 with 13942 MB memory:  -> device: 1, name: Tesla T4, pci bus id: 0000:00:05.0, compute capability: 7.5\n",
      "/usr/local/lib/python3.11/dist-packages/keras/src/layers/convolutional/base_conv.py:107: UserWarning: Do not pass an `input_shape`/`input_dim` argument to a layer. When using Sequential models, prefer using an `Input(shape)` object as the first layer in the model instead.\n",
      "  super().__init__(activity_regularizer=activity_regularizer, **kwargs)\n"
     ]
    },
    {
     "data": {
      "text/html": [
       "<pre style=\"white-space:pre;overflow-x:auto;line-height:normal;font-family:Menlo,'DejaVu Sans Mono',consolas,'Courier New',monospace\"><span style=\"font-weight: bold\">Model: \"AlexNet_CIFAR10\"</span>\n",
       "</pre>\n"
      ],
      "text/plain": [
       "\u001b[1mModel: \"AlexNet_CIFAR10\"\u001b[0m\n"
      ]
     },
     "metadata": {},
     "output_type": "display_data"
    },
    {
     "data": {
      "text/html": [
       "<pre style=\"white-space:pre;overflow-x:auto;line-height:normal;font-family:Menlo,'DejaVu Sans Mono',consolas,'Courier New',monospace\">┏━━━━━━━━━━━━━━━━━━━━━━━━━━━━━━━━━┳━━━━━━━━━━━━━━━━━━━━━━━━┳━━━━━━━━━━━━━━━┓\n",
       "┃<span style=\"font-weight: bold\"> Layer (type)                    </span>┃<span style=\"font-weight: bold\"> Output Shape           </span>┃<span style=\"font-weight: bold\">       Param # </span>┃\n",
       "┡━━━━━━━━━━━━━━━━━━━━━━━━━━━━━━━━━╇━━━━━━━━━━━━━━━━━━━━━━━━╇━━━━━━━━━━━━━━━┩\n",
       "│ conv2d (<span style=\"color: #0087ff; text-decoration-color: #0087ff\">Conv2D</span>)                 │ (<span style=\"color: #00d7ff; text-decoration-color: #00d7ff\">None</span>, <span style=\"color: #00af00; text-decoration-color: #00af00\">32</span>, <span style=\"color: #00af00; text-decoration-color: #00af00\">32</span>, <span style=\"color: #00af00; text-decoration-color: #00af00\">64</span>)     │         <span style=\"color: #00af00; text-decoration-color: #00af00\">4,864</span> │\n",
       "├─────────────────────────────────┼────────────────────────┼───────────────┤\n",
       "│ max_pooling2d (<span style=\"color: #0087ff; text-decoration-color: #0087ff\">MaxPooling2D</span>)    │ (<span style=\"color: #00d7ff; text-decoration-color: #00d7ff\">None</span>, <span style=\"color: #00af00; text-decoration-color: #00af00\">16</span>, <span style=\"color: #00af00; text-decoration-color: #00af00\">16</span>, <span style=\"color: #00af00; text-decoration-color: #00af00\">64</span>)     │             <span style=\"color: #00af00; text-decoration-color: #00af00\">0</span> │\n",
       "├─────────────────────────────────┼────────────────────────┼───────────────┤\n",
       "│ batch_normalization             │ (<span style=\"color: #00d7ff; text-decoration-color: #00d7ff\">None</span>, <span style=\"color: #00af00; text-decoration-color: #00af00\">16</span>, <span style=\"color: #00af00; text-decoration-color: #00af00\">16</span>, <span style=\"color: #00af00; text-decoration-color: #00af00\">64</span>)     │           <span style=\"color: #00af00; text-decoration-color: #00af00\">256</span> │\n",
       "│ (<span style=\"color: #0087ff; text-decoration-color: #0087ff\">BatchNormalization</span>)            │                        │               │\n",
       "├─────────────────────────────────┼────────────────────────┼───────────────┤\n",
       "│ conv2d_1 (<span style=\"color: #0087ff; text-decoration-color: #0087ff\">Conv2D</span>)               │ (<span style=\"color: #00d7ff; text-decoration-color: #00d7ff\">None</span>, <span style=\"color: #00af00; text-decoration-color: #00af00\">16</span>, <span style=\"color: #00af00; text-decoration-color: #00af00\">16</span>, <span style=\"color: #00af00; text-decoration-color: #00af00\">128</span>)    │        <span style=\"color: #00af00; text-decoration-color: #00af00\">73,856</span> │\n",
       "├─────────────────────────────────┼────────────────────────┼───────────────┤\n",
       "│ max_pooling2d_1 (<span style=\"color: #0087ff; text-decoration-color: #0087ff\">MaxPooling2D</span>)  │ (<span style=\"color: #00d7ff; text-decoration-color: #00d7ff\">None</span>, <span style=\"color: #00af00; text-decoration-color: #00af00\">8</span>, <span style=\"color: #00af00; text-decoration-color: #00af00\">8</span>, <span style=\"color: #00af00; text-decoration-color: #00af00\">128</span>)      │             <span style=\"color: #00af00; text-decoration-color: #00af00\">0</span> │\n",
       "├─────────────────────────────────┼────────────────────────┼───────────────┤\n",
       "│ batch_normalization_1           │ (<span style=\"color: #00d7ff; text-decoration-color: #00d7ff\">None</span>, <span style=\"color: #00af00; text-decoration-color: #00af00\">8</span>, <span style=\"color: #00af00; text-decoration-color: #00af00\">8</span>, <span style=\"color: #00af00; text-decoration-color: #00af00\">128</span>)      │           <span style=\"color: #00af00; text-decoration-color: #00af00\">512</span> │\n",
       "│ (<span style=\"color: #0087ff; text-decoration-color: #0087ff\">BatchNormalization</span>)            │                        │               │\n",
       "├─────────────────────────────────┼────────────────────────┼───────────────┤\n",
       "│ conv2d_2 (<span style=\"color: #0087ff; text-decoration-color: #0087ff\">Conv2D</span>)               │ (<span style=\"color: #00d7ff; text-decoration-color: #00d7ff\">None</span>, <span style=\"color: #00af00; text-decoration-color: #00af00\">8</span>, <span style=\"color: #00af00; text-decoration-color: #00af00\">8</span>, <span style=\"color: #00af00; text-decoration-color: #00af00\">192</span>)      │       <span style=\"color: #00af00; text-decoration-color: #00af00\">221,376</span> │\n",
       "├─────────────────────────────────┼────────────────────────┼───────────────┤\n",
       "│ conv2d_3 (<span style=\"color: #0087ff; text-decoration-color: #0087ff\">Conv2D</span>)               │ (<span style=\"color: #00d7ff; text-decoration-color: #00d7ff\">None</span>, <span style=\"color: #00af00; text-decoration-color: #00af00\">8</span>, <span style=\"color: #00af00; text-decoration-color: #00af00\">8</span>, <span style=\"color: #00af00; text-decoration-color: #00af00\">192</span>)      │       <span style=\"color: #00af00; text-decoration-color: #00af00\">331,968</span> │\n",
       "├─────────────────────────────────┼────────────────────────┼───────────────┤\n",
       "│ conv2d_4 (<span style=\"color: #0087ff; text-decoration-color: #0087ff\">Conv2D</span>)               │ (<span style=\"color: #00d7ff; text-decoration-color: #00d7ff\">None</span>, <span style=\"color: #00af00; text-decoration-color: #00af00\">8</span>, <span style=\"color: #00af00; text-decoration-color: #00af00\">8</span>, <span style=\"color: #00af00; text-decoration-color: #00af00\">128</span>)      │       <span style=\"color: #00af00; text-decoration-color: #00af00\">221,312</span> │\n",
       "├─────────────────────────────────┼────────────────────────┼───────────────┤\n",
       "│ max_pooling2d_2 (<span style=\"color: #0087ff; text-decoration-color: #0087ff\">MaxPooling2D</span>)  │ (<span style=\"color: #00d7ff; text-decoration-color: #00d7ff\">None</span>, <span style=\"color: #00af00; text-decoration-color: #00af00\">4</span>, <span style=\"color: #00af00; text-decoration-color: #00af00\">4</span>, <span style=\"color: #00af00; text-decoration-color: #00af00\">128</span>)      │             <span style=\"color: #00af00; text-decoration-color: #00af00\">0</span> │\n",
       "├─────────────────────────────────┼────────────────────────┼───────────────┤\n",
       "│ batch_normalization_2           │ (<span style=\"color: #00d7ff; text-decoration-color: #00d7ff\">None</span>, <span style=\"color: #00af00; text-decoration-color: #00af00\">4</span>, <span style=\"color: #00af00; text-decoration-color: #00af00\">4</span>, <span style=\"color: #00af00; text-decoration-color: #00af00\">128</span>)      │           <span style=\"color: #00af00; text-decoration-color: #00af00\">512</span> │\n",
       "│ (<span style=\"color: #0087ff; text-decoration-color: #0087ff\">BatchNormalization</span>)            │                        │               │\n",
       "├─────────────────────────────────┼────────────────────────┼───────────────┤\n",
       "│ flatten (<span style=\"color: #0087ff; text-decoration-color: #0087ff\">Flatten</span>)               │ (<span style=\"color: #00d7ff; text-decoration-color: #00d7ff\">None</span>, <span style=\"color: #00af00; text-decoration-color: #00af00\">2048</span>)           │             <span style=\"color: #00af00; text-decoration-color: #00af00\">0</span> │\n",
       "├─────────────────────────────────┼────────────────────────┼───────────────┤\n",
       "│ dense (<span style=\"color: #0087ff; text-decoration-color: #0087ff\">Dense</span>)                   │ (<span style=\"color: #00d7ff; text-decoration-color: #00d7ff\">None</span>, <span style=\"color: #00af00; text-decoration-color: #00af00\">1024</span>)           │     <span style=\"color: #00af00; text-decoration-color: #00af00\">2,098,176</span> │\n",
       "├─────────────────────────────────┼────────────────────────┼───────────────┤\n",
       "│ dropout (<span style=\"color: #0087ff; text-decoration-color: #0087ff\">Dropout</span>)               │ (<span style=\"color: #00d7ff; text-decoration-color: #00d7ff\">None</span>, <span style=\"color: #00af00; text-decoration-color: #00af00\">1024</span>)           │             <span style=\"color: #00af00; text-decoration-color: #00af00\">0</span> │\n",
       "├─────────────────────────────────┼────────────────────────┼───────────────┤\n",
       "│ dense_1 (<span style=\"color: #0087ff; text-decoration-color: #0087ff\">Dense</span>)                 │ (<span style=\"color: #00d7ff; text-decoration-color: #00d7ff\">None</span>, <span style=\"color: #00af00; text-decoration-color: #00af00\">1024</span>)           │     <span style=\"color: #00af00; text-decoration-color: #00af00\">1,049,600</span> │\n",
       "├─────────────────────────────────┼────────────────────────┼───────────────┤\n",
       "│ dropout_1 (<span style=\"color: #0087ff; text-decoration-color: #0087ff\">Dropout</span>)             │ (<span style=\"color: #00d7ff; text-decoration-color: #00d7ff\">None</span>, <span style=\"color: #00af00; text-decoration-color: #00af00\">1024</span>)           │             <span style=\"color: #00af00; text-decoration-color: #00af00\">0</span> │\n",
       "├─────────────────────────────────┼────────────────────────┼───────────────┤\n",
       "│ dense_2 (<span style=\"color: #0087ff; text-decoration-color: #0087ff\">Dense</span>)                 │ (<span style=\"color: #00d7ff; text-decoration-color: #00d7ff\">None</span>, <span style=\"color: #00af00; text-decoration-color: #00af00\">10</span>)             │        <span style=\"color: #00af00; text-decoration-color: #00af00\">10,250</span> │\n",
       "└─────────────────────────────────┴────────────────────────┴───────────────┘\n",
       "</pre>\n"
      ],
      "text/plain": [
       "┏━━━━━━━━━━━━━━━━━━━━━━━━━━━━━━━━━┳━━━━━━━━━━━━━━━━━━━━━━━━┳━━━━━━━━━━━━━━━┓\n",
       "┃\u001b[1m \u001b[0m\u001b[1mLayer (type)                   \u001b[0m\u001b[1m \u001b[0m┃\u001b[1m \u001b[0m\u001b[1mOutput Shape          \u001b[0m\u001b[1m \u001b[0m┃\u001b[1m \u001b[0m\u001b[1m      Param #\u001b[0m\u001b[1m \u001b[0m┃\n",
       "┡━━━━━━━━━━━━━━━━━━━━━━━━━━━━━━━━━╇━━━━━━━━━━━━━━━━━━━━━━━━╇━━━━━━━━━━━━━━━┩\n",
       "│ conv2d (\u001b[38;5;33mConv2D\u001b[0m)                 │ (\u001b[38;5;45mNone\u001b[0m, \u001b[38;5;34m32\u001b[0m, \u001b[38;5;34m32\u001b[0m, \u001b[38;5;34m64\u001b[0m)     │         \u001b[38;5;34m4,864\u001b[0m │\n",
       "├─────────────────────────────────┼────────────────────────┼───────────────┤\n",
       "│ max_pooling2d (\u001b[38;5;33mMaxPooling2D\u001b[0m)    │ (\u001b[38;5;45mNone\u001b[0m, \u001b[38;5;34m16\u001b[0m, \u001b[38;5;34m16\u001b[0m, \u001b[38;5;34m64\u001b[0m)     │             \u001b[38;5;34m0\u001b[0m │\n",
       "├─────────────────────────────────┼────────────────────────┼───────────────┤\n",
       "│ batch_normalization             │ (\u001b[38;5;45mNone\u001b[0m, \u001b[38;5;34m16\u001b[0m, \u001b[38;5;34m16\u001b[0m, \u001b[38;5;34m64\u001b[0m)     │           \u001b[38;5;34m256\u001b[0m │\n",
       "│ (\u001b[38;5;33mBatchNormalization\u001b[0m)            │                        │               │\n",
       "├─────────────────────────────────┼────────────────────────┼───────────────┤\n",
       "│ conv2d_1 (\u001b[38;5;33mConv2D\u001b[0m)               │ (\u001b[38;5;45mNone\u001b[0m, \u001b[38;5;34m16\u001b[0m, \u001b[38;5;34m16\u001b[0m, \u001b[38;5;34m128\u001b[0m)    │        \u001b[38;5;34m73,856\u001b[0m │\n",
       "├─────────────────────────────────┼────────────────────────┼───────────────┤\n",
       "│ max_pooling2d_1 (\u001b[38;5;33mMaxPooling2D\u001b[0m)  │ (\u001b[38;5;45mNone\u001b[0m, \u001b[38;5;34m8\u001b[0m, \u001b[38;5;34m8\u001b[0m, \u001b[38;5;34m128\u001b[0m)      │             \u001b[38;5;34m0\u001b[0m │\n",
       "├─────────────────────────────────┼────────────────────────┼───────────────┤\n",
       "│ batch_normalization_1           │ (\u001b[38;5;45mNone\u001b[0m, \u001b[38;5;34m8\u001b[0m, \u001b[38;5;34m8\u001b[0m, \u001b[38;5;34m128\u001b[0m)      │           \u001b[38;5;34m512\u001b[0m │\n",
       "│ (\u001b[38;5;33mBatchNormalization\u001b[0m)            │                        │               │\n",
       "├─────────────────────────────────┼────────────────────────┼───────────────┤\n",
       "│ conv2d_2 (\u001b[38;5;33mConv2D\u001b[0m)               │ (\u001b[38;5;45mNone\u001b[0m, \u001b[38;5;34m8\u001b[0m, \u001b[38;5;34m8\u001b[0m, \u001b[38;5;34m192\u001b[0m)      │       \u001b[38;5;34m221,376\u001b[0m │\n",
       "├─────────────────────────────────┼────────────────────────┼───────────────┤\n",
       "│ conv2d_3 (\u001b[38;5;33mConv2D\u001b[0m)               │ (\u001b[38;5;45mNone\u001b[0m, \u001b[38;5;34m8\u001b[0m, \u001b[38;5;34m8\u001b[0m, \u001b[38;5;34m192\u001b[0m)      │       \u001b[38;5;34m331,968\u001b[0m │\n",
       "├─────────────────────────────────┼────────────────────────┼───────────────┤\n",
       "│ conv2d_4 (\u001b[38;5;33mConv2D\u001b[0m)               │ (\u001b[38;5;45mNone\u001b[0m, \u001b[38;5;34m8\u001b[0m, \u001b[38;5;34m8\u001b[0m, \u001b[38;5;34m128\u001b[0m)      │       \u001b[38;5;34m221,312\u001b[0m │\n",
       "├─────────────────────────────────┼────────────────────────┼───────────────┤\n",
       "│ max_pooling2d_2 (\u001b[38;5;33mMaxPooling2D\u001b[0m)  │ (\u001b[38;5;45mNone\u001b[0m, \u001b[38;5;34m4\u001b[0m, \u001b[38;5;34m4\u001b[0m, \u001b[38;5;34m128\u001b[0m)      │             \u001b[38;5;34m0\u001b[0m │\n",
       "├─────────────────────────────────┼────────────────────────┼───────────────┤\n",
       "│ batch_normalization_2           │ (\u001b[38;5;45mNone\u001b[0m, \u001b[38;5;34m4\u001b[0m, \u001b[38;5;34m4\u001b[0m, \u001b[38;5;34m128\u001b[0m)      │           \u001b[38;5;34m512\u001b[0m │\n",
       "│ (\u001b[38;5;33mBatchNormalization\u001b[0m)            │                        │               │\n",
       "├─────────────────────────────────┼────────────────────────┼───────────────┤\n",
       "│ flatten (\u001b[38;5;33mFlatten\u001b[0m)               │ (\u001b[38;5;45mNone\u001b[0m, \u001b[38;5;34m2048\u001b[0m)           │             \u001b[38;5;34m0\u001b[0m │\n",
       "├─────────────────────────────────┼────────────────────────┼───────────────┤\n",
       "│ dense (\u001b[38;5;33mDense\u001b[0m)                   │ (\u001b[38;5;45mNone\u001b[0m, \u001b[38;5;34m1024\u001b[0m)           │     \u001b[38;5;34m2,098,176\u001b[0m │\n",
       "├─────────────────────────────────┼────────────────────────┼───────────────┤\n",
       "│ dropout (\u001b[38;5;33mDropout\u001b[0m)               │ (\u001b[38;5;45mNone\u001b[0m, \u001b[38;5;34m1024\u001b[0m)           │             \u001b[38;5;34m0\u001b[0m │\n",
       "├─────────────────────────────────┼────────────────────────┼───────────────┤\n",
       "│ dense_1 (\u001b[38;5;33mDense\u001b[0m)                 │ (\u001b[38;5;45mNone\u001b[0m, \u001b[38;5;34m1024\u001b[0m)           │     \u001b[38;5;34m1,049,600\u001b[0m │\n",
       "├─────────────────────────────────┼────────────────────────┼───────────────┤\n",
       "│ dropout_1 (\u001b[38;5;33mDropout\u001b[0m)             │ (\u001b[38;5;45mNone\u001b[0m, \u001b[38;5;34m1024\u001b[0m)           │             \u001b[38;5;34m0\u001b[0m │\n",
       "├─────────────────────────────────┼────────────────────────┼───────────────┤\n",
       "│ dense_2 (\u001b[38;5;33mDense\u001b[0m)                 │ (\u001b[38;5;45mNone\u001b[0m, \u001b[38;5;34m10\u001b[0m)             │        \u001b[38;5;34m10,250\u001b[0m │\n",
       "└─────────────────────────────────┴────────────────────────┴───────────────┘\n"
      ]
     },
     "metadata": {},
     "output_type": "display_data"
    },
    {
     "data": {
      "text/html": [
       "<pre style=\"white-space:pre;overflow-x:auto;line-height:normal;font-family:Menlo,'DejaVu Sans Mono',consolas,'Courier New',monospace\"><span style=\"font-weight: bold\"> Total params: </span><span style=\"color: #00af00; text-decoration-color: #00af00\">4,012,682</span> (15.31 MB)\n",
       "</pre>\n"
      ],
      "text/plain": [
       "\u001b[1m Total params: \u001b[0m\u001b[38;5;34m4,012,682\u001b[0m (15.31 MB)\n"
      ]
     },
     "metadata": {},
     "output_type": "display_data"
    },
    {
     "data": {
      "text/html": [
       "<pre style=\"white-space:pre;overflow-x:auto;line-height:normal;font-family:Menlo,'DejaVu Sans Mono',consolas,'Courier New',monospace\"><span style=\"font-weight: bold\"> Trainable params: </span><span style=\"color: #00af00; text-decoration-color: #00af00\">4,012,042</span> (15.30 MB)\n",
       "</pre>\n"
      ],
      "text/plain": [
       "\u001b[1m Trainable params: \u001b[0m\u001b[38;5;34m4,012,042\u001b[0m (15.30 MB)\n"
      ]
     },
     "metadata": {},
     "output_type": "display_data"
    },
    {
     "data": {
      "text/html": [
       "<pre style=\"white-space:pre;overflow-x:auto;line-height:normal;font-family:Menlo,'DejaVu Sans Mono',consolas,'Courier New',monospace\"><span style=\"font-weight: bold\"> Non-trainable params: </span><span style=\"color: #00af00; text-decoration-color: #00af00\">640</span> (2.50 KB)\n",
       "</pre>\n"
      ],
      "text/plain": [
       "\u001b[1m Non-trainable params: \u001b[0m\u001b[38;5;34m640\u001b[0m (2.50 KB)\n"
      ]
     },
     "metadata": {},
     "output_type": "display_data"
    }
   ],
   "source": [
    "# Initialize model\n",
    "model = AlexNet(input_shape=(32, 32, 3), classes=10, learning_rate=0.0001, drop_rate=0.5)\n",
    "model.summary()"
   ]
  },
  {
   "cell_type": "code",
   "execution_count": 6,
   "id": "b29488d9",
   "metadata": {
    "execution": {
     "iopub.execute_input": "2025-10-08T05:24:17.673174Z",
     "iopub.status.busy": "2025-10-08T05:24:17.672945Z",
     "iopub.status.idle": "2025-10-08T05:46:51.216541Z",
     "shell.execute_reply": "2025-10-08T05:46:51.215876Z"
    },
    "papermill": {
     "duration": 1353.565949,
     "end_time": "2025-10-08T05:46:51.218100",
     "exception": false,
     "start_time": "2025-10-08T05:24:17.652151",
     "status": "completed"
    },
    "tags": []
   },
   "outputs": [
    {
     "name": "stdout",
     "output_type": "stream",
     "text": [
      "Epoch 1/50\n"
     ]
    },
    {
     "name": "stderr",
     "output_type": "stream",
     "text": [
      "/usr/local/lib/python3.11/dist-packages/keras/src/trainers/data_adapters/py_dataset_adapter.py:121: UserWarning: Your `PyDataset` class should call `super().__init__(**kwargs)` in its constructor. `**kwargs` can include `workers`, `use_multiprocessing`, `max_queue_size`. Do not pass these arguments to `fit()`, as they will be ignored.\n",
      "  self._warn_if_super_not_called()\n",
      "WARNING: All log messages before absl::InitializeLog() is called are written to STDERR\n",
      "I0000 00:00:1759901062.365754      59 service.cc:148] XLA service 0x7e46800093b0 initialized for platform CUDA (this does not guarantee that XLA will be used). Devices:\n",
      "I0000 00:00:1759901062.366479      59 service.cc:156]   StreamExecutor device (0): Tesla T4, Compute Capability 7.5\n",
      "I0000 00:00:1759901062.366583      59 service.cc:156]   StreamExecutor device (1): Tesla T4, Compute Capability 7.5\n",
      "I0000 00:00:1759901062.880744      59 cuda_dnn.cc:529] Loaded cuDNN version 90300\n"
     ]
    },
    {
     "name": "stdout",
     "output_type": "stream",
     "text": [
      "\u001b[1m  5/782\u001b[0m \u001b[37m━━━━━━━━━━━━━━━━━━━━\u001b[0m \u001b[1m24s\u001b[0m 32ms/step - accuracy: 0.0911 - loss: 4.4701"
     ]
    },
    {
     "name": "stderr",
     "output_type": "stream",
     "text": [
      "I0000 00:00:1759901067.508173      59 device_compiler.h:188] Compiled cluster using XLA!  This line is logged at most once for the lifetime of the process.\n"
     ]
    },
    {
     "name": "stdout",
     "output_type": "stream",
     "text": [
      "\u001b[1m782/782\u001b[0m \u001b[32m━━━━━━━━━━━━━━━━━━━━\u001b[0m\u001b[37m\u001b[0m \u001b[1m42s\u001b[0m 41ms/step - accuracy: 0.2540 - loss: 2.4621 - val_accuracy: 0.4722 - val_loss: 1.4598 - learning_rate: 1.0000e-04\n",
      "Epoch 2/50\n",
      "\u001b[1m782/782\u001b[0m \u001b[32m━━━━━━━━━━━━━━━━━━━━\u001b[0m\u001b[37m\u001b[0m \u001b[1m26s\u001b[0m 34ms/step - accuracy: 0.4225 - loss: 1.5972 - val_accuracy: 0.5434 - val_loss: 1.2807 - learning_rate: 1.0000e-04\n",
      "Epoch 3/50\n",
      "\u001b[1m782/782\u001b[0m \u001b[32m━━━━━━━━━━━━━━━━━━━━\u001b[0m\u001b[37m\u001b[0m \u001b[1m26s\u001b[0m 34ms/step - accuracy: 0.4816 - loss: 1.4359 - val_accuracy: 0.5328 - val_loss: 1.3357 - learning_rate: 1.0000e-04\n",
      "Epoch 4/50\n",
      "\u001b[1m782/782\u001b[0m \u001b[32m━━━━━━━━━━━━━━━━━━━━\u001b[0m\u001b[37m\u001b[0m \u001b[1m26s\u001b[0m 34ms/step - accuracy: 0.5204 - loss: 1.3310 - val_accuracy: 0.5455 - val_loss: 1.3169 - learning_rate: 1.0000e-04\n",
      "Epoch 5/50\n",
      "\u001b[1m782/782\u001b[0m \u001b[32m━━━━━━━━━━━━━━━━━━━━\u001b[0m\u001b[37m\u001b[0m \u001b[1m26s\u001b[0m 34ms/step - accuracy: 0.5563 - loss: 1.2418 - val_accuracy: 0.6167 - val_loss: 1.0975 - learning_rate: 1.0000e-04\n",
      "Epoch 6/50\n",
      "\u001b[1m782/782\u001b[0m \u001b[32m━━━━━━━━━━━━━━━━━━━━\u001b[0m\u001b[37m\u001b[0m \u001b[1m26s\u001b[0m 34ms/step - accuracy: 0.5828 - loss: 1.1630 - val_accuracy: 0.6326 - val_loss: 1.0379 - learning_rate: 1.0000e-04\n",
      "Epoch 7/50\n",
      "\u001b[1m782/782\u001b[0m \u001b[32m━━━━━━━━━━━━━━━━━━━━\u001b[0m\u001b[37m\u001b[0m \u001b[1m27s\u001b[0m 34ms/step - accuracy: 0.6068 - loss: 1.1045 - val_accuracy: 0.6707 - val_loss: 0.9459 - learning_rate: 1.0000e-04\n",
      "Epoch 8/50\n",
      "\u001b[1m782/782\u001b[0m \u001b[32m━━━━━━━━━━━━━━━━━━━━\u001b[0m\u001b[37m\u001b[0m \u001b[1m26s\u001b[0m 34ms/step - accuracy: 0.6262 - loss: 1.0558 - val_accuracy: 0.6281 - val_loss: 1.0652 - learning_rate: 1.0000e-04\n",
      "Epoch 9/50\n",
      "\u001b[1m782/782\u001b[0m \u001b[32m━━━━━━━━━━━━━━━━━━━━\u001b[0m\u001b[37m\u001b[0m \u001b[1m27s\u001b[0m 34ms/step - accuracy: 0.6491 - loss: 0.9982 - val_accuracy: 0.6830 - val_loss: 0.9036 - learning_rate: 1.0000e-04\n",
      "Epoch 10/50\n",
      "\u001b[1m782/782\u001b[0m \u001b[32m━━━━━━━━━━━━━━━━━━━━\u001b[0m\u001b[37m\u001b[0m \u001b[1m26s\u001b[0m 34ms/step - accuracy: 0.6638 - loss: 0.9544 - val_accuracy: 0.6748 - val_loss: 0.9204 - learning_rate: 1.0000e-04\n",
      "Epoch 11/50\n",
      "\u001b[1m782/782\u001b[0m \u001b[32m━━━━━━━━━━━━━━━━━━━━\u001b[0m\u001b[37m\u001b[0m \u001b[1m26s\u001b[0m 33ms/step - accuracy: 0.6767 - loss: 0.9183 - val_accuracy: 0.6732 - val_loss: 0.9364 - learning_rate: 1.0000e-04\n",
      "Epoch 12/50\n",
      "\u001b[1m782/782\u001b[0m \u001b[32m━━━━━━━━━━━━━━━━━━━━\u001b[0m\u001b[37m\u001b[0m \u001b[1m42s\u001b[0m 34ms/step - accuracy: 0.6874 - loss: 0.8842 - val_accuracy: 0.7090 - val_loss: 0.8324 - learning_rate: 1.0000e-04\n",
      "Epoch 13/50\n",
      "\u001b[1m782/782\u001b[0m \u001b[32m━━━━━━━━━━━━━━━━━━━━\u001b[0m\u001b[37m\u001b[0m \u001b[1m27s\u001b[0m 34ms/step - accuracy: 0.7013 - loss: 0.8539 - val_accuracy: 0.7123 - val_loss: 0.8223 - learning_rate: 1.0000e-04\n",
      "Epoch 14/50\n",
      "\u001b[1m782/782\u001b[0m \u001b[32m━━━━━━━━━━━━━━━━━━━━\u001b[0m\u001b[37m\u001b[0m \u001b[1m27s\u001b[0m 35ms/step - accuracy: 0.7101 - loss: 0.8293 - val_accuracy: 0.7274 - val_loss: 0.7868 - learning_rate: 1.0000e-04\n",
      "Epoch 15/50\n",
      "\u001b[1m782/782\u001b[0m \u001b[32m━━━━━━━━━━━━━━━━━━━━\u001b[0m\u001b[37m\u001b[0m \u001b[1m27s\u001b[0m 34ms/step - accuracy: 0.7218 - loss: 0.7993 - val_accuracy: 0.7338 - val_loss: 0.7779 - learning_rate: 1.0000e-04\n",
      "Epoch 16/50\n",
      "\u001b[1m782/782\u001b[0m \u001b[32m━━━━━━━━━━━━━━━━━━━━\u001b[0m\u001b[37m\u001b[0m \u001b[1m26s\u001b[0m 33ms/step - accuracy: 0.7310 - loss: 0.7661 - val_accuracy: 0.7266 - val_loss: 0.7931 - learning_rate: 1.0000e-04\n",
      "Epoch 17/50\n",
      "\u001b[1m782/782\u001b[0m \u001b[32m━━━━━━━━━━━━━━━━━━━━\u001b[0m\u001b[37m\u001b[0m \u001b[1m27s\u001b[0m 34ms/step - accuracy: 0.7358 - loss: 0.7506 - val_accuracy: 0.7507 - val_loss: 0.7294 - learning_rate: 1.0000e-04\n",
      "Epoch 18/50\n",
      "\u001b[1m782/782\u001b[0m \u001b[32m━━━━━━━━━━━━━━━━━━━━\u001b[0m\u001b[37m\u001b[0m \u001b[1m27s\u001b[0m 34ms/step - accuracy: 0.7426 - loss: 0.7377 - val_accuracy: 0.7523 - val_loss: 0.7211 - learning_rate: 1.0000e-04\n",
      "Epoch 19/50\n",
      "\u001b[1m782/782\u001b[0m \u001b[32m━━━━━━━━━━━━━━━━━━━━\u001b[0m\u001b[37m\u001b[0m \u001b[1m27s\u001b[0m 34ms/step - accuracy: 0.7530 - loss: 0.7060 - val_accuracy: 0.7774 - val_loss: 0.6622 - learning_rate: 1.0000e-04\n",
      "Epoch 20/50\n",
      "\u001b[1m782/782\u001b[0m \u001b[32m━━━━━━━━━━━━━━━━━━━━\u001b[0m\u001b[37m\u001b[0m \u001b[1m27s\u001b[0m 34ms/step - accuracy: 0.7593 - loss: 0.6818 - val_accuracy: 0.7659 - val_loss: 0.6911 - learning_rate: 1.0000e-04\n",
      "Epoch 21/50\n",
      "\u001b[1m782/782\u001b[0m \u001b[32m━━━━━━━━━━━━━━━━━━━━\u001b[0m\u001b[37m\u001b[0m \u001b[1m27s\u001b[0m 34ms/step - accuracy: 0.7681 - loss: 0.6615 - val_accuracy: 0.7589 - val_loss: 0.7039 - learning_rate: 1.0000e-04\n",
      "Epoch 22/50\n",
      "\u001b[1m782/782\u001b[0m \u001b[32m━━━━━━━━━━━━━━━━━━━━\u001b[0m\u001b[37m\u001b[0m \u001b[1m27s\u001b[0m 34ms/step - accuracy: 0.7688 - loss: 0.6659 - val_accuracy: 0.7757 - val_loss: 0.6552 - learning_rate: 1.0000e-04\n",
      "Epoch 23/50\n",
      "\u001b[1m782/782\u001b[0m \u001b[32m━━━━━━━━━━━━━━━━━━━━\u001b[0m\u001b[37m\u001b[0m \u001b[1m26s\u001b[0m 34ms/step - accuracy: 0.7784 - loss: 0.6357 - val_accuracy: 0.7733 - val_loss: 0.6996 - learning_rate: 1.0000e-04\n",
      "Epoch 24/50\n",
      "\u001b[1m782/782\u001b[0m \u001b[32m━━━━━━━━━━━━━━━━━━━━\u001b[0m\u001b[37m\u001b[0m \u001b[1m26s\u001b[0m 34ms/step - accuracy: 0.7827 - loss: 0.6199 - val_accuracy: 0.7696 - val_loss: 0.6699 - learning_rate: 1.0000e-04\n",
      "Epoch 25/50\n",
      "\u001b[1m782/782\u001b[0m \u001b[32m━━━━━━━━━━━━━━━━━━━━\u001b[0m\u001b[37m\u001b[0m \u001b[1m26s\u001b[0m 34ms/step - accuracy: 0.7891 - loss: 0.6122 - val_accuracy: 0.7799 - val_loss: 0.6447 - learning_rate: 1.0000e-04\n",
      "Epoch 26/50\n",
      "\u001b[1m782/782\u001b[0m \u001b[32m━━━━━━━━━━━━━━━━━━━━\u001b[0m\u001b[37m\u001b[0m \u001b[1m27s\u001b[0m 35ms/step - accuracy: 0.7916 - loss: 0.5971 - val_accuracy: 0.8042 - val_loss: 0.5750 - learning_rate: 1.0000e-04\n",
      "Epoch 27/50\n",
      "\u001b[1m782/782\u001b[0m \u001b[32m━━━━━━━━━━━━━━━━━━━━\u001b[0m\u001b[37m\u001b[0m \u001b[1m27s\u001b[0m 34ms/step - accuracy: 0.7987 - loss: 0.5779 - val_accuracy: 0.7961 - val_loss: 0.5897 - learning_rate: 1.0000e-04\n",
      "Epoch 28/50\n",
      "\u001b[1m782/782\u001b[0m \u001b[32m━━━━━━━━━━━━━━━━━━━━\u001b[0m\u001b[37m\u001b[0m \u001b[1m26s\u001b[0m 34ms/step - accuracy: 0.8013 - loss: 0.5709 - val_accuracy: 0.7620 - val_loss: 0.6994 - learning_rate: 1.0000e-04\n",
      "Epoch 29/50\n",
      "\u001b[1m782/782\u001b[0m \u001b[32m━━━━━━━━━━━━━━━━━━━━\u001b[0m\u001b[37m\u001b[0m \u001b[1m26s\u001b[0m 34ms/step - accuracy: 0.8058 - loss: 0.5548 - val_accuracy: 0.7953 - val_loss: 0.5924 - learning_rate: 1.0000e-04\n",
      "Epoch 30/50\n",
      "\u001b[1m782/782\u001b[0m \u001b[32m━━━━━━━━━━━━━━━━━━━━\u001b[0m\u001b[37m\u001b[0m \u001b[1m26s\u001b[0m 34ms/step - accuracy: 0.8055 - loss: 0.5461 - val_accuracy: 0.8027 - val_loss: 0.5628 - learning_rate: 1.0000e-04\n",
      "Epoch 31/50\n",
      "\u001b[1m782/782\u001b[0m \u001b[32m━━━━━━━━━━━━━━━━━━━━\u001b[0m\u001b[37m\u001b[0m \u001b[1m26s\u001b[0m 33ms/step - accuracy: 0.8160 - loss: 0.5309 - val_accuracy: 0.7985 - val_loss: 0.5743 - learning_rate: 1.0000e-04\n",
      "Epoch 32/50\n",
      "\u001b[1m782/782\u001b[0m \u001b[32m━━━━━━━━━━━━━━━━━━━━\u001b[0m\u001b[37m\u001b[0m \u001b[1m26s\u001b[0m 33ms/step - accuracy: 0.8168 - loss: 0.5248 - val_accuracy: 0.7932 - val_loss: 0.5972 - learning_rate: 1.0000e-04\n",
      "Epoch 33/50\n",
      "\u001b[1m782/782\u001b[0m \u001b[32m━━━━━━━━━━━━━━━━━━━━\u001b[0m\u001b[37m\u001b[0m \u001b[1m26s\u001b[0m 34ms/step - accuracy: 0.8266 - loss: 0.5017 - val_accuracy: 0.7976 - val_loss: 0.5935 - learning_rate: 1.0000e-04\n",
      "Epoch 34/50\n",
      "\u001b[1m782/782\u001b[0m \u001b[32m━━━━━━━━━━━━━━━━━━━━\u001b[0m\u001b[37m\u001b[0m \u001b[1m26s\u001b[0m 34ms/step - accuracy: 0.8236 - loss: 0.5075 - val_accuracy: 0.7869 - val_loss: 0.6310 - learning_rate: 1.0000e-04\n",
      "Epoch 35/50\n",
      "\u001b[1m782/782\u001b[0m \u001b[32m━━━━━━━━━━━━━━━━━━━━\u001b[0m\u001b[37m\u001b[0m \u001b[1m26s\u001b[0m 34ms/step - accuracy: 0.8313 - loss: 0.4884 - val_accuracy: 0.7818 - val_loss: 0.6324 - learning_rate: 1.0000e-04\n",
      "Epoch 36/50\n",
      "\u001b[1m782/782\u001b[0m \u001b[32m━━━━━━━━━━━━━━━━━━━━\u001b[0m\u001b[37m\u001b[0m \u001b[1m26s\u001b[0m 34ms/step - accuracy: 0.8387 - loss: 0.4614 - val_accuracy: 0.8188 - val_loss: 0.5346 - learning_rate: 2.0000e-05\n",
      "Epoch 37/50\n",
      "\u001b[1m782/782\u001b[0m \u001b[32m━━━━━━━━━━━━━━━━━━━━\u001b[0m\u001b[37m\u001b[0m \u001b[1m26s\u001b[0m 34ms/step - accuracy: 0.8518 - loss: 0.4254 - val_accuracy: 0.8188 - val_loss: 0.5346 - learning_rate: 2.0000e-05\n",
      "Epoch 38/50\n",
      "\u001b[1m782/782\u001b[0m \u001b[32m━━━━━━━━━━━━━━━━━━━━\u001b[0m\u001b[37m\u001b[0m \u001b[1m26s\u001b[0m 33ms/step - accuracy: 0.8497 - loss: 0.4235 - val_accuracy: 0.8139 - val_loss: 0.5496 - learning_rate: 2.0000e-05\n",
      "Epoch 39/50\n",
      "\u001b[1m782/782\u001b[0m \u001b[32m━━━━━━━━━━━━━━━━━━━━\u001b[0m\u001b[37m\u001b[0m \u001b[1m26s\u001b[0m 34ms/step - accuracy: 0.8534 - loss: 0.4184 - val_accuracy: 0.8215 - val_loss: 0.5271 - learning_rate: 2.0000e-05\n",
      "Epoch 40/50\n",
      "\u001b[1m782/782\u001b[0m \u001b[32m━━━━━━━━━━━━━━━━━━━━\u001b[0m\u001b[37m\u001b[0m \u001b[1m26s\u001b[0m 34ms/step - accuracy: 0.8587 - loss: 0.4027 - val_accuracy: 0.8237 - val_loss: 0.5195 - learning_rate: 2.0000e-05\n",
      "Epoch 41/50\n",
      "\u001b[1m782/782\u001b[0m \u001b[32m━━━━━━━━━━━━━━━━━━━━\u001b[0m\u001b[37m\u001b[0m \u001b[1m26s\u001b[0m 34ms/step - accuracy: 0.8656 - loss: 0.3902 - val_accuracy: 0.8251 - val_loss: 0.5177 - learning_rate: 2.0000e-05\n",
      "Epoch 42/50\n",
      "\u001b[1m782/782\u001b[0m \u001b[32m━━━━━━━━━━━━━━━━━━━━\u001b[0m\u001b[37m\u001b[0m \u001b[1m26s\u001b[0m 34ms/step - accuracy: 0.8606 - loss: 0.4006 - val_accuracy: 0.8283 - val_loss: 0.5049 - learning_rate: 2.0000e-05\n",
      "Epoch 43/50\n",
      "\u001b[1m782/782\u001b[0m \u001b[32m━━━━━━━━━━━━━━━━━━━━\u001b[0m\u001b[37m\u001b[0m \u001b[1m26s\u001b[0m 33ms/step - accuracy: 0.8647 - loss: 0.3898 - val_accuracy: 0.8150 - val_loss: 0.5433 - learning_rate: 2.0000e-05\n",
      "Epoch 44/50\n",
      "\u001b[1m782/782\u001b[0m \u001b[32m━━━━━━━━━━━━━━━━━━━━\u001b[0m\u001b[37m\u001b[0m \u001b[1m26s\u001b[0m 33ms/step - accuracy: 0.8602 - loss: 0.3958 - val_accuracy: 0.8261 - val_loss: 0.5162 - learning_rate: 2.0000e-05\n",
      "Epoch 45/50\n",
      "\u001b[1m782/782\u001b[0m \u001b[32m━━━━━━━━━━━━━━━━━━━━\u001b[0m\u001b[37m\u001b[0m \u001b[1m26s\u001b[0m 33ms/step - accuracy: 0.8662 - loss: 0.3848 - val_accuracy: 0.8230 - val_loss: 0.5258 - learning_rate: 2.0000e-05\n",
      "Epoch 46/50\n",
      "\u001b[1m782/782\u001b[0m \u001b[32m━━━━━━━━━━━━━━━━━━━━\u001b[0m\u001b[37m\u001b[0m \u001b[1m26s\u001b[0m 33ms/step - accuracy: 0.8637 - loss: 0.3905 - val_accuracy: 0.8189 - val_loss: 0.5409 - learning_rate: 2.0000e-05\n",
      "Epoch 47/50\n",
      "\u001b[1m782/782\u001b[0m \u001b[32m━━━━━━━━━━━━━━━━━━━━\u001b[0m\u001b[37m\u001b[0m \u001b[1m26s\u001b[0m 33ms/step - accuracy: 0.8661 - loss: 0.3813 - val_accuracy: 0.8232 - val_loss: 0.5296 - learning_rate: 2.0000e-05\n",
      "Epoch 48/50\n",
      "\u001b[1m782/782\u001b[0m \u001b[32m━━━━━━━━━━━━━━━━━━━━\u001b[0m\u001b[37m\u001b[0m \u001b[1m26s\u001b[0m 33ms/step - accuracy: 0.8702 - loss: 0.3721 - val_accuracy: 0.8263 - val_loss: 0.5159 - learning_rate: 4.0000e-06\n",
      "Epoch 49/50\n",
      "\u001b[1m782/782\u001b[0m \u001b[32m━━━━━━━━━━━━━━━━━━━━\u001b[0m\u001b[37m\u001b[0m \u001b[1m28s\u001b[0m 36ms/step - accuracy: 0.8681 - loss: 0.3730 - val_accuracy: 0.8250 - val_loss: 0.5199 - learning_rate: 4.0000e-06\n",
      "Epoch 50/50\n",
      "\u001b[1m782/782\u001b[0m \u001b[32m━━━━━━━━━━━━━━━━━━━━\u001b[0m\u001b[37m\u001b[0m \u001b[1m27s\u001b[0m 35ms/step - accuracy: 0.8714 - loss: 0.3640 - val_accuracy: 0.8286 - val_loss: 0.5105 - learning_rate: 4.0000e-06\n"
     ]
    }
   ],
   "source": [
    "# Callbacks for training\n",
    "callbacks = [\n",
    "    EarlyStopping(monitor='val_loss', patience=10, restore_best_weights=True),\n",
    "    ModelCheckpoint('alexnet_cifar10_best.h5', monitor='val_accuracy', save_best_only=True),\n",
    "    ReduceLROnPlateau(monitor='val_loss', factor=0.2, patience=5, min_lr=1e-6)\n",
    "]\n",
    "\n",
    "# Train the model\n",
    "batch_size = 64\n",
    "epochs = 50\n",
    "\n",
    "history = model.fit(\n",
    "    datagen.flow(x_train, y_train, batch_size=batch_size),\n",
    "    epochs=epochs,\n",
    "    validation_data=(x_test, y_test),\n",
    "    callbacks=callbacks,\n",
    "    verbose=1\n",
    ")\n"
   ]
  },
  {
   "cell_type": "code",
   "execution_count": null,
   "id": "221b35b1",
   "metadata": {
    "papermill": {
     "duration": 0.922665,
     "end_time": "2025-10-08T05:46:53.097610",
     "exception": false,
     "start_time": "2025-10-08T05:46:52.174945",
     "status": "completed"
    },
    "tags": []
   },
   "outputs": [],
   "source": []
  }
 ],
 "metadata": {
  "kaggle": {
   "accelerator": "nvidiaTeslaT4",
   "dataSources": [],
   "dockerImageVersionId": 31154,
   "isGpuEnabled": true,
   "isInternetEnabled": true,
   "language": "python",
   "sourceType": "notebook"
  },
  "kernelspec": {
   "display_name": "Python 3",
   "language": "python",
   "name": "python3"
  },
  "language_info": {
   "codemirror_mode": {
    "name": "ipython",
    "version": 3
   },
   "file_extension": ".py",
   "mimetype": "text/x-python",
   "name": "python",
   "nbconvert_exporter": "python",
   "pygments_lexer": "ipython3",
   "version": "3.11.13"
  },
  "papermill": {
   "default_parameters": {},
   "duration": 1411.779299,
   "end_time": "2025-10-08T05:46:56.918024",
   "environment_variables": {},
   "exception": null,
   "input_path": "__notebook__.ipynb",
   "output_path": "__notebook__.ipynb",
   "parameters": {},
   "start_time": "2025-10-08T05:23:25.138725",
   "version": "2.6.0"
  }
 },
 "nbformat": 4,
 "nbformat_minor": 5
}
