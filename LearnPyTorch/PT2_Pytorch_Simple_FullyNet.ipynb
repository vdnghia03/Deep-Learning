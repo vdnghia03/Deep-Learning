{
  "nbformat": 4,
  "nbformat_minor": 0,
  "metadata": {
    "colab": {
      "provenance": [],
      "gpuType": "T4"
    },
    "kernelspec": {
      "name": "python3",
      "display_name": "Python 3"
    },
    "language_info": {
      "name": "python"
    },
    "accelerator": "GPU"
  },
  "cells": [
    {
      "cell_type": "markdown",
      "source": [
        "## Pytorch Simple FullyNet\n",
        "---\n",
        "\n",
        "Các bước chính gồm:\n",
        "- Chuẩn bị dữ liệu\n",
        "- Xây dựng mô hình\n",
        "- Train mô hình\n",
        "- Đánh giá mô hình"
      ],
      "metadata": {
        "id": "6wm3jjXOzmE6"
      }
    },
    {
      "cell_type": "code",
      "execution_count": null,
      "metadata": {
        "id": "fiBWGfFyzA8c"
      },
      "outputs": [],
      "source": [
        "# Import thư viện\n",
        "import torch\n",
        "import torch.nn.functional as F # Parameterless functions, like (some) activation functions\n",
        "import torchvision.datasets as datasets # Standard datasets\n",
        "import torchvision.transforms as transforms # Transformations we can perform on our dataset for augmentation\n",
        "from torch import optim # For optimizers, such as SGD, Adam, etc.\n",
        "from torch import nn # All neural network modules\n",
        "from torch.utils.data import (\n",
        "    DataLoader, random_split\n",
        "    # Gives easier dataset managment by creating mini batch\n",
        ")\n",
        "from tqdm import tqdm # For nice progress bar!\n"
      ]
    },
    {
      "cell_type": "markdown",
      "source": [
        "### Xây dựng Class Neural Network\n"
      ],
      "metadata": {
        "id": "tTrmg44i3SLl"
      }
    },
    {
      "cell_type": "code",
      "source": [
        "class NN(nn.Module):\n",
        "  def __init__(self,input_size: int, number_class: int) -> None:\n",
        "    \"\"\"\n",
        "    Hàm khởi tạo class NN\n",
        "\n",
        "    Parametter:\n",
        "      input_size(int): Kích thước đầu vào, là 784 (28x28)\n",
        "      number_class(int): Số lớp đầu ra, là 10 (0->9)\n",
        "    \"\"\"\n",
        "    super(NN,self).__init__()\n",
        "    # Our first linear layer take input_size, in this case 784 nodes to 50\n",
        "    # and our second linear layer takes 50 to the num_classes we have, in\n",
        "    # this case 10.\n",
        "    # Tiện lợi, thay vì phải khai báo số hidden layer và số node mỗi layer\n",
        "    self.fc1 = nn.Linear(input_size, 50)\n",
        "    self.fc2 = nn.Linear(50, number_class)\n",
        "\n",
        "  def forward(self,x):\n",
        "    \"\"\"\n",
        "    x here is the mnist images and we run it through fc1, fc2 that we created above.\n",
        "    we also add a ReLU activation function in between and for that (since it has no parameters)\n",
        "    I recommend using nn.functional (F)\n",
        "\n",
        "    Paramenter:\n",
        "      x: Image Mnist\n",
        "\n",
        "    Return:\n",
        "      out: the output of the neural network\n",
        "    \"\"\"\n",
        "    x = self.fc1(x)\n",
        "    x = F.relu(x)\n",
        "    x = self.fc2(x)\n",
        "    return x\n"
      ],
      "metadata": {
        "id": "i-UyKQCuzHGK"
      },
      "execution_count": null,
      "outputs": []
    },
    {
      "cell_type": "markdown",
      "source": [
        "### Chuẩn bị dữ liệu"
      ],
      "metadata": {
        "id": "Miv9JgrH7mNf"
      }
    },
    {
      "cell_type": "code",
      "source": [
        "# set device cuda for GPU if availabel otherwise run on CPU\n",
        "device = torch.device(\"cuda\" if torch.cuda.is_available() else \"cpu\")\n",
        "\n",
        "# Hyperparameters\n",
        "input_size = 784\n",
        "num_classes = 10\n",
        "learning_rate = 0.001\n",
        "batch_size = 64\n",
        "num_epochs = 3"
      ],
      "metadata": {
        "id": "7CDgzz7E7rUC"
      },
      "execution_count": null,
      "outputs": []
    },
    {
      "cell_type": "code",
      "source": [
        "# DataLoader\n",
        "\n",
        "# train_dataset = datasets.MNIST(\n",
        "#     root=\"dataset/\", train = True, transform=transforms.ToTensor(), download=True\n",
        "# )\n",
        "full_train_dataset = datasets.MNIST(\n",
        "    root=\"dataset/\", train=True, transform=transforms.ToTensor(), download=True\n",
        ")\n",
        "test_dataset = datasets.MNIST(\n",
        "    root=\"dataset/\", train = False, transform=transforms.ToTensor(), download = True\n",
        ")\n",
        "\n",
        "# Chia train_dataset thành train và validation\n",
        "train_len = int(0.8 * len(full_train_dataset))\n",
        "val_len = len(full_train_dataset) - train_len\n",
        "train_dataset, val_dataset = random_split(full_train_dataset, [train_len, val_len])\n",
        "\n",
        "\n",
        "\n",
        "train_loader = DataLoader(dataset=train_dataset, batch_size=batch_size, shuffle=True)\n",
        "val_loader = DataLoader(dataset=val_dataset, batch_size=batch_size, shuffle=True)\n",
        "test_loader = DataLoader(dataset=test_dataset, batch_size=batch_size, shuffle=True)\n",
        "\n"
      ],
      "metadata": {
        "id": "mGv6omR-8Kp4"
      },
      "execution_count": null,
      "outputs": []
    },
    {
      "cell_type": "markdown",
      "source": [
        "### Train Mô hình"
      ],
      "metadata": {
        "id": "p5IzPHc19NKH"
      }
    },
    {
      "cell_type": "code",
      "source": [
        "# Khởi tạo mô hình\n",
        "model = NN(input_size=input_size, number_class=num_classes).to(device)\n",
        "\n",
        "# Loss và optimizer\n",
        "criterion = nn.CrossEntropyLoss()\n",
        "optimizer = optim.Adam(model.parameters(), lr = learning_rate)\n"
      ],
      "metadata": {
        "id": "z58ufWZg9M2b"
      },
      "execution_count": null,
      "outputs": []
    },
    {
      "cell_type": "code",
      "source": [
        "# # Train network\n",
        "\n",
        "# for epoch in range(num_epochs):\n",
        "#   for batch_idx, (data, targets) in enumerate(tqdm(train_loader)):\n",
        "#     # Get data to cuda if possible\n",
        "#     data = data.to(device=device)\n",
        "#     target = targets.to(device=device)\n",
        "\n",
        "#     # reshape data correct\n",
        "#     data = data.reshape(data.shape[0], -1)\n",
        "\n",
        "#     # Forward\n",
        "#     scores = model(data)\n",
        "#     loss = criterion(scores, target)\n",
        "\n",
        "#     # Backward\n",
        "#     optimizer.zero_grad()\n",
        "#     loss.backward()\n",
        "\n",
        "#     # Gradient descent or adam step\n",
        "#     optimizer.step()\n"
      ],
      "metadata": {
        "id": "6lA6PcYV_nqr"
      },
      "execution_count": null,
      "outputs": []
    },
    {
      "cell_type": "code",
      "source": [
        "def check_accuracy(loader, model):\n",
        "    num_correct = 0\n",
        "    num_samples = 0\n",
        "    model.eval()\n",
        "    with torch.no_grad():\n",
        "        for x, y in loader:\n",
        "            x = x.to(device=device)\n",
        "            y = y.to(device=device)\n",
        "            x = x.reshape(x.shape[0], -1)\n",
        "            scores = model(x)\n",
        "            _, predictions = scores.max(1)\n",
        "            num_correct += (predictions == y).sum().item()\n",
        "            num_samples += predictions.size(0)\n",
        "    model.train()\n",
        "    return num_correct / num_samples\n",
        "\n",
        "# Huấn luyện và validate\n",
        "for epoch in range(num_epochs):\n",
        "    running_loss = 0.0\n",
        "    for batch_idx, (data, targets) in enumerate(tqdm(train_loader, desc=f\"Epoch {epoch+1}\")):\n",
        "        # Get data to gpu if possible\n",
        "        data = data.to(device=device)\n",
        "        targets = targets.to(device=device)\n",
        "\n",
        "        # Reshape data\n",
        "        data = data.reshape(data.shape[0], -1)\n",
        "\n",
        "        # Forward\n",
        "        scores = model(data)\n",
        "        loss = criterion(scores, targets)\n",
        "\n",
        "        # Backward\n",
        "        optimizer.zero_grad()\n",
        "        loss.backward()\n",
        "\n",
        "        # Optimizer\n",
        "        optimizer.step()\n",
        "\n",
        "        # Loss of each epoch\n",
        "        running_loss += loss.item()\n",
        "\n",
        "    train_acc = check_accuracy(train_loader, model)\n",
        "    val_acc = check_accuracy(val_loader, model)\n",
        "    avg_train_loss = running_loss / len(train_loader)\n",
        "    print(f\"Epoch [{epoch+1}/{num_epochs}] - Train Loss: {avg_train_loss:.4f} - Train Acc: {train_acc*100:.2f}% - Val Acc: {val_acc*100:.2f}%\")"
      ],
      "metadata": {
        "colab": {
          "base_uri": "https://localhost:8080/"
        },
        "id": "exrziFxRPlNn",
        "outputId": "6f5d72b0-2e7e-41b9-fc68-5fb862906dfc"
      },
      "execution_count": null,
      "outputs": [
        {
          "output_type": "stream",
          "name": "stderr",
          "text": [
            "Epoch 1: 100%|██████████| 750/750 [00:09<00:00, 75.85it/s]\n"
          ]
        },
        {
          "output_type": "stream",
          "name": "stdout",
          "text": [
            "Epoch [1/3] - Train Loss: 0.4532 - Train Acc: 92.60% - Val Acc: 92.09%\n"
          ]
        },
        {
          "output_type": "stream",
          "name": "stderr",
          "text": [
            "Epoch 2: 100%|██████████| 750/750 [00:08<00:00, 91.39it/s] \n"
          ]
        },
        {
          "output_type": "stream",
          "name": "stdout",
          "text": [
            "Epoch [2/3] - Train Loss: 0.2333 - Train Acc: 94.56% - Val Acc: 93.80%\n"
          ]
        },
        {
          "output_type": "stream",
          "name": "stderr",
          "text": [
            "Epoch 3: 100%|██████████| 750/750 [00:09<00:00, 81.37it/s]\n"
          ]
        },
        {
          "output_type": "stream",
          "name": "stdout",
          "text": [
            "Epoch [3/3] - Train Loss: 0.1809 - Train Acc: 95.45% - Val Acc: 94.67%\n"
          ]
        }
      ]
    },
    {
      "cell_type": "markdown",
      "source": [
        "### Đánh giá mô hình\n",
        "---\n"
      ],
      "metadata": {
        "id": "NAtVB2RUHrG8"
      }
    },
    {
      "cell_type": "code",
      "source": [
        "# Check accuracy on training & test to see how good our model\n",
        "def check_accuracy(loader,model):\n",
        "  \"\"\"\n",
        "  Check accuracy of our train model given loader and a model\n",
        "\n",
        "  Parameters:\n",
        "    loader: torch.utils.data.DataLoader\n",
        "\n",
        "    A loader for the dataset you want to check accuracy on\n",
        "        model: nn.Module\n",
        "            The model you want to check accuracy on\n",
        "\n",
        "    Returns:\n",
        "        acc: float\n",
        "            The accuracy of the model on the dataset given by the loader\n",
        "\n",
        "  \"\"\"\n",
        "  num_correct = 0\n",
        "  num_samples = 0\n",
        "  model.eval()\n",
        "\n",
        "  # We don't need to keep track of gradients here so we wrap it in torch.no_grad()\n",
        "  with torch.no_grad():\n",
        "    # Loop through the data\n",
        "    for x,y in loader:\n",
        "      x = x.to(device=device)\n",
        "      y = y.to(device=device)\n",
        "\n",
        "      # Correct shape\n",
        "      x = x.reshape(x.shape[0], -1)\n",
        "\n",
        "      # Forward pass\n",
        "      scores = model(x)\n",
        "      _, predictions = scores.max(1)\n",
        "\n",
        "      # Check how many we got correct\n",
        "      num_correct += (predictions == y).sum()\n",
        "\n",
        "      # keep track of numer of samples\n",
        "      num_samples += predictions.size(0)\n",
        "\n",
        "    model.train()\n",
        "    return num_correct / num_samples\n",
        "\n",
        "\n",
        "\n",
        "\n"
      ],
      "metadata": {
        "id": "Y5vt41SDHvna"
      },
      "execution_count": null,
      "outputs": []
    },
    {
      "cell_type": "code",
      "source": [
        "# Check accuracy on training & test to see how good our model\n",
        "print(f\"Accuracy on training set: {check_accuracy(train_loader, model)*100:.2f}\")\n",
        "print(f\"Accuracy on test set: {check_accuracy(test_loader, model)*100:.2f}\")"
      ],
      "metadata": {
        "colab": {
          "base_uri": "https://localhost:8080/"
        },
        "id": "cGFuvxIhJEyr",
        "outputId": "9b1e02a5-ecb0-4a76-84f1-8502f04e0601"
      },
      "execution_count": null,
      "outputs": [
        {
          "output_type": "stream",
          "name": "stdout",
          "text": [
            "Accuracy on training set: 95.45\n",
            "Accuracy on test set: 94.89\n"
          ]
        }
      ]
    },
    {
      "cell_type": "markdown",
      "source": [
        "### Dự đoán một image bất kì"
      ],
      "metadata": {
        "id": "bzthmjowRJKr"
      }
    },
    {
      "cell_type": "code",
      "source": [
        "import torch\n",
        "import matplotlib.pyplot as plt\n",
        "\n",
        "# Giả sử model đã được train và ở chế độ eval\n",
        "model.eval()\n",
        "\n",
        "# Lấy một ảnh bất kỳ từ test_dataset\n",
        "idx = 15 # chọn index bất kỳ, bạn có thể thay đổi số này\n",
        "image, label = test_dataset[idx]\n",
        "\n",
        "# Hiển thị ảnh\n",
        "plt.imshow(image.squeeze(), cmap='gray')\n",
        "plt.title(f'True label: {label}')\n",
        "plt.show()\n",
        "\n",
        "# Dự đoán\n",
        "with torch.no_grad():\n",
        "    img = image.reshape(1, -1).to(device) # reshape về [1, 784] và đưa lên GPU/CPU\n",
        "    output = model(img)\n",
        "    _, predicted = torch.max(output, dim=1)\n",
        "\n",
        "print(f'Model prediction: {predicted.item()}')"
      ],
      "metadata": {
        "colab": {
          "base_uri": "https://localhost:8080/",
          "height": 469
        },
        "id": "pf8-PuNnRIpL",
        "outputId": "085ecff4-61ea-4b24-fd43-31ae4668ff5d"
      },
      "execution_count": null,
      "outputs": [
        {
          "output_type": "display_data",
          "data": {
            "text/plain": [
              "<Figure size 640x480 with 1 Axes>"
            ],
            "image/png": "[encoded data removed]"
          },
          "metadata": {}
        },
        {
          "output_type": "stream",
          "name": "stdout",
          "text": [
            "Model prediction: 5\n"
          ]
        }
      ]
    },
    {
      "cell_type": "markdown",
      "source": [
        "---\n",
        "\n",
        "\n",
        "## 1. **Import các thư viện**\n",
        "- **torch, torch.nn, torch.optim**: Thư viện chính để xây dựng và tối ưu hóa mạng neural.\n",
        "- **torchvision.datasets, torchvision.transforms**: Dùng để lấy bộ dữ liệu MNIST và chuyển đổi thành tensor.\n",
        "- **torch.utils.data.DataLoader**: Giúp chia dữ liệu thành các batch nhỏ để huấn luyện dễ dàng hơn.\n",
        "- **tqdm**: Hiển thị thanh tiến trình khi huấn luyện.\n",
        "\n",
        "## 2. **Xây dựng mô hình mạng neural**\n",
        "- Định nghĩa class `NN`, kế thừa từ `nn.Module`.\n",
        "- Trong `__init__`, tạo 2 lớp fully connected (linear):\n",
        "    - `fc1`: input_size (784) → 50 nodes.\n",
        "    - `fc2`: 50 nodes → num_classes (10).\n",
        "- Trong hàm `forward`, dữ liệu đi qua:\n",
        "    - Lớp fc1 → hàm kích hoạt ReLU → lớp fc2.\n",
        "- Đây là mạng neural đơn giản: chỉ 2 lớp linear.\n",
        "\n",
        "## 3. **Thiết lập thiết bị (GPU/CPU)**\n",
        "- Kiểm tra nếu máy có GPU (CUDA) thì dùng, không thì dùng CPU.\n",
        "\n",
        "## 4. **Khai báo các hyperparameter**\n",
        "- `input_size = 784`: Mỗi ảnh MNIST là 28x28, làm phẳng thành 784 điểm ảnh.\n",
        "- `num_classes = 10`: 10 số từ 0 đến 9.\n",
        "- `learning_rate = 0.001`: Tốc độ học.\n",
        "- `batch_size = 64`: Số lượng mẫu mỗi batch.\n",
        "- `num_epochs = 3`: Số lần lặp qua toàn bộ dữ liệu.\n",
        "\n",
        "## 5. **Tải dữ liệu MNIST**\n",
        "- Sử dụng torchvision để tải dữ liệu train và test.\n",
        "- Chuyển đổi ảnh thành tensor.\n",
        "- Dùng DataLoader để chia dữ liệu thành các batch nhỏ.\n",
        "\n",
        "## 6. **Khởi tạo mô hình, hàm mất mát, và optimizer**\n",
        "- Tạo instance của mạng `NN`.\n",
        "- Dùng hàm mất mát `CrossEntropyLoss` (phù hợp cho phân loại nhiều lớp).\n",
        "- Dùng optimizer Adam để cập nhật trọng số mạng.\n",
        "\n",
        "## 7. **Huấn luyện mạng neural**\n",
        "- Lặp qua số epoch đã chọn.\n",
        "- Với mỗi batch:\n",
        "    1. Đưa dữ liệu lên GPU/CPU.\n",
        "    2. Làm phẳng dữ liệu từ (batch, 1, 28, 28) → (batch, 784).\n",
        "    3. Forward: Tính toán output của mô hình.\n",
        "    4. Tính loss giữa output và ground truth.\n",
        "    5. Backward: Tính toán gradient.\n",
        "    6. optimizer.step(): Cập nhật trọng số mạng.\n",
        "    7. optimizer.zero_grad(): Reset gradient cho lần lặp tiếp theo.\n",
        "\n",
        "## 8. **Kiểm tra độ chính xác của mô hình**\n",
        "- Định nghĩa hàm `check_accuracy` để tính accuracy trên tập train hoặc test.\n",
        "- Đưa dữ liệu qua mô hình, lấy dự đoán.\n",
        "- So sánh dự đoán với nhãn thật, tính phần trăm đúng.\n",
        "\n",
        "## 9. **In kết quả cuối cùng**\n",
        "- In accuracy trên tập huấn luyện và tập kiểm tra.\n",
        "\n",
        "---\n",
        "\n",
        "## **Tóm lại:**  \n",
        "File này hướng dẫn từng bước thiết lập, huấn luyện, và kiểm tra một mạng neural fully connected đơn giản trên bộ dữ liệu MNIST bằng PyTorch. Các bước chính gồm: chuẩn bị dữ liệu, xây dựng mô hình, huấn luyện, và đánh giá kết quả."
      ],
      "metadata": {
        "id": "qR8tFkGNzHW6"
      }
    },
    {
      "cell_type": "code",
      "source": [],
      "metadata": {
        "id": "j45Q9QhdzPvw"
      },
      "execution_count": null,
      "outputs": []
    }
  ]
}