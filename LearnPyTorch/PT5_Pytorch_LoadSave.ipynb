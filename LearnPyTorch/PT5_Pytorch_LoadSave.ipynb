{
  "nbformat": 4,
  "nbformat_minor": 0,
  "metadata": {
    "colab": {
      "provenance": [],
      "gpuType": "T4"
    },
    "kernelspec": {
      "name": "python3",
      "display_name": "Python 3"
    },
    "language_info": {
      "name": "python"
    },
    "accelerator": "GPU"
  },
  "cells": [
    {
      "cell_type": "markdown",
      "source": [
        "## Load & Save Model Pytorch"
      ],
      "metadata": {
        "id": "nlFVF9haWlp4"
      }
    },
    {
      "cell_type": "code",
      "execution_count": 5,
      "metadata": {
        "id": "MPae2UYWWf64"
      },
      "outputs": [],
      "source": [
        "# Import thư viện\n",
        "import torch\n",
        "import torchvision\n",
        "import torch.nn as nn\n",
        "import torch.optim as optim\n",
        "import torch.nn.functional as F\n",
        "from torch.utils.data import (\n",
        "    DataLoader\n",
        ")\n",
        "import torchvision.datasets as datasets\n",
        "import torchvision.transforms as transforms"
      ]
    },
    {
      "cell_type": "code",
      "source": [
        "def save_checkpoint(state, filename=\"my_checkpoint.pth.tar\"):\n",
        "  print(\"=> Saving Checkpoint\")\n",
        "  torch.save(state, filename)"
      ],
      "metadata": {
        "id": "TH6TOGaaYVKZ"
      },
      "execution_count": 6,
      "outputs": []
    },
    {
      "cell_type": "code",
      "source": [
        "def load_checkpoint(checkpoint, model, optimizer):\n",
        "  print(\"=> Loading Checkpoint\")\n",
        "  model.load_state_dict(checkpoint[\"state_dict\"])\n",
        "  optimizer.load_state_dict(checkpoint[\"optimizer\"])\n"
      ],
      "metadata": {
        "id": "izkKN-cQYm4D"
      },
      "execution_count": 7,
      "outputs": []
    },
    {
      "cell_type": "code",
      "source": [
        "\n",
        "\n",
        "def main():\n",
        "    # Initialize network\n",
        "    model = torchvision.models.vgg16(\n",
        "        weights=None\n",
        "    )  # pretrained=False deprecated, use weights instead\n",
        "    optimizer = optim.Adam(model.parameters())\n",
        "\n",
        "    checkpoint = {\"state_dict\": model.state_dict(), \"optimizer\": optimizer.state_dict()}\n",
        "    # Try save checkpoint\n",
        "    save_checkpoint(checkpoint)\n",
        "\n",
        "    # Try load checkpoint\n",
        "    load_checkpoint(torch.load(\"my_checkpoint.pth.tar\"), model, optimizer)\n",
        "\n",
        "\n",
        "\n",
        "\n",
        "if __name__ == \"__main__\":\n",
        "  main()\n"
      ],
      "metadata": {
        "colab": {
          "base_uri": "https://localhost:8080/"
        },
        "id": "kOxuaGBFZ-N-",
        "outputId": "2e1bbb8b-347d-4c2a-f8d6-989f43bd164c"
      },
      "execution_count": 8,
      "outputs": [
        {
          "output_type": "stream",
          "name": "stdout",
          "text": [
            "=> Saving Checkpoint\n",
            "=> Loading Checkpoint\n"
          ]
        }
      ]
    },
    {
      "cell_type": "code",
      "source": [],
      "metadata": {
        "id": "en1Z_7u4kmwe"
      },
      "execution_count": null,
      "outputs": []
    }
  ]
}