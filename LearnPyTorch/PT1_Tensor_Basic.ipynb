{
  "nbformat": 4,
  "nbformat_minor": 0,
  "metadata": {
    "colab": {
      "provenance": [],
      "gpuType": "T4"
    },
    "kernelspec": {
      "name": "python3",
      "display_name": "Python 3"
    },
    "language_info": {
      "name": "python"
    },
    "accelerator": "GPU"
  },
  "cells": [
    {
      "cell_type": "markdown",
      "source": [
        "## Tensor Basic\n",
        "\n",
        "\n",
        "Walk through of a lot of different useful Tensor Operations, where we\n",
        "go through what I think are four main parts in:\n",
        "\n",
        "1. Initialization of a Tensor\n",
        "2. Tensor Mathematical Operations and Comparison\n",
        "3. Tensor Indexing\n",
        "4. Tensor Reshaping\n",
        "\n",
        "But also other things such as setting the device (GPU/CPU) and converting\n",
        "between different types (int, float etc) and how to convert a tensor to an\n",
        "numpy array and vice-versa."
      ],
      "metadata": {
        "id": "s6wdtSORnDW6"
      }
    },
    {
      "cell_type": "markdown",
      "source": [
        "---\n",
        "### 1. Initialization of a Tensor"
      ],
      "metadata": {
        "id": "zjfiT-gHnP17"
      }
    },
    {
      "cell_type": "code",
      "execution_count": 1,
      "metadata": {
        "id": "SF6ipUbMii5Q"
      },
      "outputs": [],
      "source": [
        "import torch\n",
        "import numpy as np"
      ]
    },
    {
      "cell_type": "code",
      "source": [
        "device = \"cuda\" if torch.cuda.is_available() else \"cpu\"\n",
        "print(device)"
      ],
      "metadata": {
        "id": "i9uR2qLAkvyk",
        "colab": {
          "base_uri": "https://localhost:8080/"
        },
        "outputId": "b36fa0d0-017c-4833-fc54-fe8ff1ddb236"
      },
      "execution_count": 2,
      "outputs": [
        {
          "output_type": "stream",
          "name": "stdout",
          "text": [
            "cuda\n"
          ]
        }
      ]
    },
    {
      "cell_type": "code",
      "source": [
        "# Initial a Tensor in this case of shape 2x3\n",
        "tensor1 = torch.tensor(\n",
        "    [[1,2,3],[4,5,6]], dtype=torch.float32, device = device, requires_grad=True\n",
        ")\n",
        "print(f\"Tensor1: {tensor1}\")\n",
        "\n",
        "print(f\"Type of Tensor1: {tensor1.dtype}\")\n",
        "\n",
        "print(f\"Device Tensor 1: {tensor1.device}\")\n",
        "\n",
        "print(f\"Shape of Tensor 1: {tensor1.shape}\")\n",
        "\n",
        "print(f\"Requires of Gradient: {tensor1.requires_grad}\")"
      ],
      "metadata": {
        "colab": {
          "base_uri": "https://localhost:8080/"
        },
        "id": "UaOCZdPHnrK3",
        "outputId": "b5d65eb1-0dab-4c5a-e782-8e246023c523"
      },
      "execution_count": 3,
      "outputs": [
        {
          "output_type": "stream",
          "name": "stdout",
          "text": [
            "Tensor1: tensor([[1., 2., 3.],\n",
            "        [4., 5., 6.]], device='cuda:0', requires_grad=True)\n",
            "Type of Tensor1: torch.float32\n",
            "Device Tensor 1: cuda:0\n",
            "Shape of Tensor 1: torch.Size([2, 3])\n",
            "Requires of Gradient: True\n"
          ]
        }
      ]
    },
    {
      "cell_type": "code",
      "source": [
        "# Other Initial method\n",
        "\n",
        "tensor_empty = torch.empty(size=(3,3)) # Tensor (3,3) with ununtialize data\n",
        "print(f\"Tensor Empty: {tensor_empty}\")\n",
        "\n",
        "tensor_zeros = torch.zeros(size = (3,3)) # Tensor (3,3) with all data = 0\n",
        "print(f\"Tensor Zeros: {tensor_zeros}\")\n",
        "\n",
        "tensor_rand = torch.rand(size=(3,3)) # [0,1)\n",
        "print(f\"Tensor Rand: {tensor_rand}\")\n",
        "\n",
        "\n",
        "tensor_ones = torch.ones(size=(3,3)) # Tensor (3,3) with values of 1\n",
        "print(f\"Tensor Ones: {tensor_ones}\")\n",
        "\n",
        "tensor_eye = torch.eye(5,5)\n",
        "print(f\"Tensor Eye: {tensor_eye}\")\n",
        "\n",
        "tensor_arange = torch.arange(start=0, end=5, step=1)\n",
        "print(f\"Tensor Arange: {tensor_arange}\")\n",
        "\n",
        "tensor_linspace = torch.linspace(start=0.1, end=1, steps=10)\n",
        "print(f\"Tensor Linspace: {tensor_linspace}\")\n",
        "\n",
        "tensor_normal_distribute = torch.empty(size = (1,5)).normal_(mean=0, std=1)\n",
        "print(f\"Tensor Normal Distribute: {tensor_normal_distribute}\")\n",
        "\n",
        "tensor_uniform_distribute = torch.empty(size=(1,5)).uniform_(0,1)\n",
        "print(f\"Tensor Uniform Distribute: {tensor_uniform_distribute}\")\n",
        "\n",
        "tensor_diag = torch.diag(torch.ones(4)) # Diag matrix (4,4)\n",
        "print(f\"Tensor Diag: {tensor_diag}\")\n",
        "\n",
        "\n",
        "\n"
      ],
      "metadata": {
        "colab": {
          "base_uri": "https://localhost:8080/"
        },
        "id": "Loi7n9jyo_vL",
        "outputId": "33f00abd-e045-43fd-b5b1-b5c25b6fca1c"
      },
      "execution_count": 4,
      "outputs": [
        {
          "output_type": "stream",
          "name": "stdout",
          "text": [
            "Tensor Empty: tensor([[2.1536e+21, 4.5839e-41, 2.1536e+21],\n",
            "        [4.5839e-41, 0.0000e+00, 0.0000e+00],\n",
            "        [0.0000e+00, 0.0000e+00, 0.0000e+00]])\n",
            "Tensor Zeros: tensor([[0., 0., 0.],\n",
            "        [0., 0., 0.],\n",
            "        [0., 0., 0.]])\n",
            "Tensor Rand: tensor([[0.8432, 0.9407, 0.2963],\n",
            "        [0.9994, 0.4091, 0.5442],\n",
            "        [0.6775, 0.2997, 0.1824]])\n",
            "Tensor Ones: tensor([[1., 1., 1.],\n",
            "        [1., 1., 1.],\n",
            "        [1., 1., 1.]])\n",
            "Tensor Eye: tensor([[1., 0., 0., 0., 0.],\n",
            "        [0., 1., 0., 0., 0.],\n",
            "        [0., 0., 1., 0., 0.],\n",
            "        [0., 0., 0., 1., 0.],\n",
            "        [0., 0., 0., 0., 1.]])\n",
            "Tensor Arange: tensor([0, 1, 2, 3, 4])\n",
            "Tensor Linspace: tensor([0.1000, 0.2000, 0.3000, 0.4000, 0.5000, 0.6000, 0.7000, 0.8000, 0.9000,\n",
            "        1.0000])\n",
            "Tensor Normal Distribute: tensor([[ 2.4313, -0.2577, -0.2841, -0.2073, -1.9309]])\n",
            "Tensor Uniform Distribute: tensor([[0.1507, 0.6110, 0.1227, 0.0395, 0.2416]])\n",
            "Tensor Diag: tensor([[1., 0., 0., 0.],\n",
            "        [0., 1., 0., 0.],\n",
            "        [0., 0., 1., 0.],\n",
            "        [0., 0., 0., 1.]])\n"
          ]
        }
      ]
    },
    {
      "cell_type": "code",
      "source": [
        "# How to make initialized tensors to other types (int, float, double)\n",
        "# These will work even if you're on CPU or CUDA!\n",
        "\n",
        "tensor = torch.arange(4) # int32\n",
        "print(tensor)\n",
        "\n",
        "print(f\"Tensor convert to Bool: {tensor.bool()}\")\n",
        "print(f\"Tensor convert to int16: {tensor.short()}\")\n",
        "print(f\"Tensor convert to int64: {tensor.long()}\") # Converted to int64 (This one is very important, used super often)\n",
        "\n",
        "print(f\"Tensor convert to float16: {tensor.half()}\")\n",
        "print(f\"Tensor convert to float32: {tensor.float()}\")\n",
        "print(f\"Tensor convert to float64: {tensor.double()}\")\n",
        "\n",
        "# Tensor to numpy\n",
        "numpy_tensor = tensor.numpy()\n",
        "print(f\"Tensor to numpy: {numpy_tensor}\")\n",
        "\n",
        "# Numpy to tensor\n",
        "numpy_array = np.array([1,2,3,4])\n",
        "tensor_from_numpy = torch.from_numpy(numpy_array)\n",
        "print(f\"Numpy to tensor: {tensor_from_numpy}\")\n"
      ],
      "metadata": {
        "colab": {
          "base_uri": "https://localhost:8080/"
        },
        "id": "sYfW_a6KrG1U",
        "outputId": "fba6f701-7f95-482d-c12c-322da8a3dc0d"
      },
      "execution_count": 5,
      "outputs": [
        {
          "output_type": "stream",
          "name": "stdout",
          "text": [
            "tensor([0, 1, 2, 3])\n",
            "Tensor convert to Bool: tensor([False,  True,  True,  True])\n",
            "Tensor convert to int16: tensor([0, 1, 2, 3], dtype=torch.int16)\n",
            "Tensor convert to int64: tensor([0, 1, 2, 3])\n",
            "Tensor convert to float16: tensor([0., 1., 2., 3.], dtype=torch.float16)\n",
            "Tensor convert to float32: tensor([0., 1., 2., 3.])\n",
            "Tensor convert to float64: tensor([0., 1., 2., 3.], dtype=torch.float64)\n",
            "Tensor to numpy: [0 1 2 3]\n",
            "Numpy to tensor: tensor([1, 2, 3, 4])\n"
          ]
        }
      ]
    },
    {
      "cell_type": "markdown",
      "source": [
        "---\n",
        "### 2. Tensor Math & Comparison Operations"
      ],
      "metadata": {
        "id": "thrnEABcvAVf"
      }
    },
    {
      "cell_type": "code",
      "source": [
        "x = torch.tensor([1,2,3,4,5])\n",
        "y = torch.tensor([6,7,8,9,10])\n",
        "\n",
        "# ----------Addition---------------\n",
        "z1 = torch.empty(5)\n",
        "torch.add(x,y,out=z1) # This is one way\n",
        "\n",
        "z2 = torch.add(x,y) # This is another way\n",
        "\n",
        "z3 = x+y # simple way :-)\n",
        "print(f\"Way1: {z1}\")\n",
        "print(f\"Way2: {z2}\")\n",
        "print(f\"Best way: {z3}\")\n",
        "\n",
        "# --------- Subtraction -------------\n",
        "z_subtract = x - y\n",
        "print(\"Subtraction: \", z_subtract)\n",
        "\n",
        "\n",
        "# Division (A bit clunky)\n",
        "z_division = torch.true_divide(y,x)\n",
        "print(f\"Devision: {z_division}\")\n",
        "\n",
        "# --------- Inplace Operations ---------\n",
        "t = torch.zeros(5)\n",
        "t.add_(x)\n",
        "print(t)\n",
        "t += x # != t = t + x because t=t+x add memory\n",
        "print(t)\n",
        "\n",
        "# ---------- Exponentiation ---------------\n",
        "ex1 = x.pow(2)\n",
        "print(ex1)\n",
        "\n",
        "ex2 = x**2\n",
        "print(ex2)\n",
        "\n",
        "# -----------Simple Comparison ------------\n",
        "z_compare = x > 0\n",
        "print(z_compare)\n",
        "\n",
        "z_compare_another = x < 0\n",
        "print(z_compare_another)\n"
      ],
      "metadata": {
        "colab": {
          "base_uri": "https://localhost:8080/"
        },
        "id": "YaS7zQBhtv1j",
        "outputId": "d4ca1d29-9947-4c10-8ebf-f58c3dc89a02"
      },
      "execution_count": 6,
      "outputs": [
        {
          "output_type": "stream",
          "name": "stdout",
          "text": [
            "Way1: tensor([ 7.,  9., 11., 13., 15.])\n",
            "Way2: tensor([ 7,  9, 11, 13, 15])\n",
            "Best way: tensor([ 7,  9, 11, 13, 15])\n",
            "Subtraction:  tensor([-5, -5, -5, -5, -5])\n",
            "Devision: tensor([6.0000, 3.5000, 2.6667, 2.2500, 2.0000])\n",
            "tensor([1., 2., 3., 4., 5.])\n",
            "tensor([ 2.,  4.,  6.,  8., 10.])\n",
            "tensor([ 1,  4,  9, 16, 25])\n",
            "tensor([ 1,  4,  9, 16, 25])\n",
            "tensor([True, True, True, True, True])\n",
            "tensor([False, False, False, False, False])\n"
          ]
        }
      ]
    },
    {
      "cell_type": "code",
      "source": [
        "# ----------- Matrix Multiplication -------\n",
        "x1 = torch.rand((2,5))\n",
        "x2 = torch.rand((5,3))\n",
        "\n",
        "x3 = torch.mm(x1,x2) # Matrix multiplication of x1 and x2, out shape: 2x3\n",
        "x4 = x1.mm(x2) # Another way matrix multiplication\n",
        "\n",
        "print(x3)\n",
        "print(x4)\n",
        "\n",
        "# Matrix exponentiation\n",
        "matrix_exp1 = torch.tensor([[1,2],[4,5]])\n",
        "matrix_exp2 = torch.tensor([[2,3],[3,4]])\n",
        "\n",
        "print(f\"Matrix pow 2: {matrix_exp1.matrix_power(2)}\")\n",
        "print(f\"Same pow 2: {matrix_exp1.mm(matrix_exp1)}\")  # is same as matrix_exp (mm) matrix_exp (mm) matrix_exp\n",
        "\n",
        "# But matrix_exp1 ** matrix_exp2 is correct for any matrix have same shape\n",
        "mt_exp1 = torch.tensor([[1,2,3],[4,5,6]])\n",
        "mt_exp2 = torch.tensor([[2,2,2], [2,2,2]])\n",
        "print(f\"Matrix exp1 ** matrix exp2: {mt_exp1 ** mt_exp2}\")\n",
        "\n",
        "# -------------- Element wise Multiplication---------------\n",
        "zz = x * y\n",
        "print(zz) # [1*6 ,2*7 , ...,5*10]\n",
        "\n",
        "zz2 = matrix_exp1 * matrix_exp2\n",
        "print(zz2)\n",
        "\n",
        "\n",
        "# Dot product\n",
        "dot_1 = torch.dot(x,y)\n",
        "print(dot_1) # 1*6 + ....+ 5*20\n",
        "\n",
        "try:\n",
        "  dot_2 = torch.dot(matrix_exp1, matrix_exp2) # .dot method only use for 1D (not use 2D)\n",
        "  print(dot_2)\n",
        "except Exception as e:\n",
        "  print(e)\n",
        "\n",
        "\n",
        "  # ----------- Batch Matrix Multiplication ---------------\n",
        "  batch = 32\n",
        "  n = 10\n",
        "  m = 20\n",
        "  p = 30\n",
        "\n",
        "  tensor1 = torch.rand((batch, n, m))\n",
        "  tensor2 = torch.rand((batch, m, p))\n",
        "  out_bmm = torch.bmm(tensor1, tensor2)\n",
        "  # print(out_bmm)\n",
        "  print(out_bmm.shape) # (batch, n, p)\n",
        "\n",
        "  # ------------- Example of broadcasting -------------\n",
        "  x1 = torch.tensor([[1,2,3,4,5],[4,5,6,7,8]])\n",
        "  x2 = torch.ones((1,5))\n",
        "\n",
        "  z = (x1 - x2)\n",
        "  print(z) # shape (5,5)\n",
        "\n",
        "  z = (x1 ** x2)\n",
        "  print(z)\n",
        "\n",
        "\n",
        "  # ---------------Other useful tensor operation---------------------\n",
        "\n",
        "  sum_x = torch.sum(x,dim=0) # result is a tensor\n",
        "  print(sum_x)\n",
        "\n",
        "  values, indices = torch.max(x, dim = 0) # tensor\n",
        "  print(values, indices)\n",
        "\n",
        "  values ,indices = torch.min(x, dim = 0) # tensor\n",
        "  print(values, indices)\n",
        "\n",
        "  abs_x = torch.abs(x) # Return x where abs function applied to every element\n",
        "  print(abs_x) # tensor\n",
        "\n",
        "  z = torch.argmax(x, dim = 0) # Gets index of the maximum value - tensor\n",
        "  print(z)\n",
        "\n",
        "  z = torch.argmin(x, dim = 0) # Gets index of minimum value - tensor\n",
        "  print(z)\n",
        "\n",
        "  mean_x = torch.mean(x.float(), dim = 0)\n",
        "  print(mean_x)\n",
        "\n",
        "  z = torch.eq(x,y)\n",
        "  print(z)\n",
        "\n",
        "  sorted_y, indices = torch.sort(y, dim = 0, descending = False)\n",
        "  print(sorted_y, indices)\n",
        "\n",
        "  # All values < 0 set to 0 and values > 0 unchanged (this is exactly ReLU function)\n",
        "  # If you want to values over max_val to be clamped, do torch.clamp(x, min=min_val, max=max_val)\n",
        "  z = torch.clamp(x, min = 3)\n",
        "  print(z)\n",
        "\n",
        "\n",
        "  xx = torch.tensor([1, 0, 1, 1, 1], dtype=torch.bool)  # True/False values\n",
        "  z = torch.any(xx)  # will return True, can also do x.any() instead of torch.any(x)\n",
        "  print(z)\n",
        "  z = torch.all(\n",
        "      xx\n",
        "  )  # will return False (since not all are True), can also do x.all() instead of torch.all()\n",
        "  print(z)\n",
        "\n",
        "\n"
      ],
      "metadata": {
        "colab": {
          "base_uri": "https://localhost:8080/"
        },
        "id": "tAH4XuVdwHAU",
        "outputId": "9eef1870-abf7-48d2-a346-910331f676ce"
      },
      "execution_count": 7,
      "outputs": [
        {
          "output_type": "stream",
          "name": "stdout",
          "text": [
            "tensor([[0.5507, 0.6927, 0.9909],\n",
            "        [1.0977, 1.0830, 1.7345]])\n",
            "tensor([[0.5507, 0.6927, 0.9909],\n",
            "        [1.0977, 1.0830, 1.7345]])\n",
            "Matrix pow 2: tensor([[ 9, 12],\n",
            "        [24, 33]])\n",
            "Same pow 2: tensor([[ 9, 12],\n",
            "        [24, 33]])\n",
            "Matrix exp1 ** matrix exp2: tensor([[ 1,  4,  9],\n",
            "        [16, 25, 36]])\n",
            "tensor([ 6, 14, 24, 36, 50])\n",
            "tensor([[ 2,  6],\n",
            "        [12, 20]])\n",
            "tensor(130)\n",
            "1D tensors expected, but got 2D and 2D tensors\n",
            "torch.Size([32, 10, 30])\n",
            "tensor([[0., 1., 2., 3., 4.],\n",
            "        [3., 4., 5., 6., 7.]])\n",
            "tensor([[1., 2., 3., 4., 5.],\n",
            "        [4., 5., 6., 7., 8.]])\n",
            "tensor(15)\n",
            "tensor(5) tensor(4)\n",
            "tensor(1) tensor(0)\n",
            "tensor([1, 2, 3, 4, 5])\n",
            "tensor(4)\n",
            "tensor(0)\n",
            "tensor(3.)\n",
            "tensor([False, False, False, False, False])\n",
            "tensor([ 6,  7,  8,  9, 10]) tensor([0, 1, 2, 3, 4])\n",
            "tensor([3, 3, 3, 4, 5])\n",
            "tensor(True)\n",
            "tensor(False)\n"
          ]
        }
      ]
    },
    {
      "cell_type": "markdown",
      "source": [
        "---\n",
        "### 3. Tensor Indexing   \n"
      ],
      "metadata": {
        "id": "vgVFc5lIHBw5"
      }
    },
    {
      "cell_type": "code",
      "source": [
        "batch_size = 10\n",
        "features = 25\n",
        "x = torch.rand((batch_size,features))\n",
        "print(x)"
      ],
      "metadata": {
        "id": "gMDZ_nyl0KPc",
        "colab": {
          "base_uri": "https://localhost:8080/"
        },
        "outputId": "0b2f508b-3407-4512-ce5d-831a0737aee8"
      },
      "execution_count": 8,
      "outputs": [
        {
          "output_type": "stream",
          "name": "stdout",
          "text": [
            "tensor([[0.8297, 0.6948, 0.6875, 0.5439, 0.6012, 0.9086, 0.3685, 0.6243, 0.1366,\n",
            "         0.5496, 0.1458, 0.6246, 0.9789, 0.4966, 0.4769, 0.5377, 0.6986, 0.6753,\n",
            "         0.0169, 0.2769, 0.7703, 0.7720, 0.8400, 0.0610, 0.8552],\n",
            "        [0.2043, 0.8822, 0.2987, 0.1924, 0.7161, 0.0164, 0.0800, 0.8820, 0.8246,\n",
            "         0.2241, 0.5230, 0.9861, 0.0101, 0.5571, 0.2210, 0.2261, 0.1731, 0.6673,\n",
            "         0.2633, 0.3287, 0.7680, 0.7554, 0.8302, 0.6332, 0.8193],\n",
            "        [0.9995, 0.6451, 0.3365, 0.6056, 0.3999, 0.0964, 0.5103, 0.6343, 0.1422,\n",
            "         0.7203, 0.0690, 0.0313, 0.7197, 0.7252, 0.5297, 0.7772, 0.7394, 0.6076,\n",
            "         0.7242, 0.2436, 0.8102, 0.4284, 0.1064, 0.2363, 0.7166],\n",
            "        [0.8981, 0.6963, 0.9331, 0.2700, 0.5930, 0.4046, 0.5875, 0.1083, 0.3337,\n",
            "         0.3841, 0.2882, 0.2257, 0.8731, 0.2684, 0.7816, 0.8901, 0.9157, 0.7909,\n",
            "         0.0642, 0.1251, 0.7130, 0.4963, 0.8127, 0.5857, 0.9366],\n",
            "        [0.3339, 0.7284, 0.4829, 0.0329, 0.2491, 0.9126, 0.6837, 0.8634, 0.4321,\n",
            "         0.8004, 0.8312, 0.5027, 0.2183, 0.6975, 0.5391, 0.9919, 0.5875, 0.4712,\n",
            "         0.6990, 0.3419, 0.8661, 0.5287, 0.8084, 0.7054, 0.8030],\n",
            "        [0.6276, 0.5827, 0.6319, 0.1810, 0.0302, 0.6061, 0.3455, 0.1335, 0.3339,\n",
            "         0.8671, 0.5119, 0.4796, 0.8458, 0.4029, 0.7303, 0.4766, 0.4863, 0.0034,\n",
            "         0.6272, 0.7733, 0.1941, 0.5862, 0.5038, 0.0726, 0.2221],\n",
            "        [0.1109, 0.9491, 0.4042, 0.8110, 0.6615, 0.7523, 0.3606, 0.6666, 0.1217,\n",
            "         0.9309, 0.2813, 0.1898, 0.7473, 0.0038, 0.5123, 0.5676, 0.3970, 0.7969,\n",
            "         0.0782, 0.7424, 0.5821, 0.7671, 0.5338, 0.7661, 0.2757],\n",
            "        [0.8092, 0.7706, 0.3787, 0.4786, 0.1567, 0.5441, 0.4288, 0.6480, 0.2485,\n",
            "         0.0284, 0.3796, 0.2336, 0.1891, 0.7390, 0.7750, 0.9401, 0.2507, 0.0151,\n",
            "         0.5294, 0.7273, 0.3894, 0.7596, 0.1641, 0.5556, 0.9601],\n",
            "        [0.7492, 0.7358, 0.4839, 0.7148, 0.7184, 0.3814, 0.0708, 0.8036, 0.8820,\n",
            "         0.5737, 0.8067, 0.5096, 0.8931, 0.6033, 0.9846, 0.8441, 0.8805, 0.5781,\n",
            "         0.0502, 0.8350, 0.1834, 0.6268, 0.0547, 0.6032, 0.0811],\n",
            "        [0.5289, 0.4209, 0.0346, 0.6189, 0.6972, 0.8561, 0.7018, 0.4485, 0.4362,\n",
            "         0.4767, 0.8224, 0.0473, 0.2079, 0.0220, 0.7628, 0.9430, 0.3626, 0.6765,\n",
            "         0.9912, 0.1033, 0.1730, 0.4172, 0.5945, 0.1333, 0.1352]])\n"
          ]
        }
      ]
    },
    {
      "cell_type": "code",
      "source": [
        "# Get first features\n",
        "print(x[0].shape) # This is same x[0,:]\n",
        "print(x[0,:])\n"
      ],
      "metadata": {
        "colab": {
          "base_uri": "https://localhost:8080/"
        },
        "id": "9Mj1zaSIanbw",
        "outputId": "973fa28d-d6d8-4a07-d88e-ebf5078a5511"
      },
      "execution_count": 12,
      "outputs": [
        {
          "output_type": "stream",
          "name": "stdout",
          "text": [
            "torch.Size([25])\n",
            "tensor([0.8297, 0.6948, 0.6875, 0.5439, 0.6012, 0.9086, 0.3685, 0.6243, 0.1366,\n",
            "        0.5496, 0.1458, 0.6246, 0.9789, 0.4966, 0.4769, 0.5377, 0.6986, 0.6753,\n",
            "        0.0169, 0.2769, 0.7703, 0.7720, 0.8400, 0.0610, 0.8552])\n"
          ]
        }
      ]
    },
    {
      "cell_type": "code",
      "source": [
        "# Get first features for all example\n",
        "print(x[:,0])\n",
        "print(x[:,0].shape)"
      ],
      "metadata": {
        "colab": {
          "base_uri": "https://localhost:8080/"
        },
        "id": "MnkvaT0Nawrh",
        "outputId": "e7587c5d-9ba3-4c57-f2f0-21fc2551f795"
      },
      "execution_count": 17,
      "outputs": [
        {
          "output_type": "stream",
          "name": "stdout",
          "text": [
            "tensor([0.8297, 0.2043, 0.9995, 0.8981, 0.3339, 0.6276, 0.1109, 0.8092, 0.7492,\n",
            "        0.5289])\n",
            "torch.Size([10])\n"
          ]
        }
      ]
    },
    {
      "cell_type": "code",
      "source": [
        "# Access third example in the batch and the first ten features\n",
        "print(x[2,0:10])\n",
        "print(x[2,0:10].shape)"
      ],
      "metadata": {
        "colab": {
          "base_uri": "https://localhost:8080/"
        },
        "id": "S6v03dfNb3Rg",
        "outputId": "0ae68ba5-80df-4d2c-acfc-1a15d97a784d"
      },
      "execution_count": 16,
      "outputs": [
        {
          "output_type": "stream",
          "name": "stdout",
          "text": [
            "tensor([0.9995, 0.6451, 0.3365, 0.6056, 0.3999, 0.0964, 0.5103, 0.6343, 0.1422,\n",
            "        0.7203])\n",
            "torch.Size([10])\n"
          ]
        }
      ]
    },
    {
      "cell_type": "code",
      "source": [
        "# Assign certain elements\n",
        "x[0,0] = 100\n",
        "print(x[0])"
      ],
      "metadata": {
        "colab": {
          "base_uri": "https://localhost:8080/"
        },
        "id": "pmkaMb8TcXwH",
        "outputId": "f3c54755-4c20-4bb6-e862-bb482ec70459"
      },
      "execution_count": 18,
      "outputs": [
        {
          "output_type": "stream",
          "name": "stdout",
          "text": [
            "tensor([1.0000e+02, 6.9478e-01, 6.8753e-01, 5.4388e-01, 6.0124e-01, 9.0858e-01,\n",
            "        3.6848e-01, 6.2432e-01, 1.3661e-01, 5.4963e-01, 1.4577e-01, 6.2456e-01,\n",
            "        9.7891e-01, 4.9661e-01, 4.7688e-01, 5.3771e-01, 6.9862e-01, 6.7534e-01,\n",
            "        1.6860e-02, 2.7691e-01, 7.7028e-01, 7.7199e-01, 8.4005e-01, 6.1007e-02,\n",
            "        8.5518e-01])\n"
          ]
        }
      ]
    },
    {
      "cell_type": "code",
      "source": [
        "# Fancy Indexing\n",
        "x = torch.arange(10)\n",
        "indices = [2,5,8]\n",
        "print(x[indices])\n",
        "\n",
        "x = torch.rand((3,5))\n",
        "rows = torch.tensor([1,0])\n",
        "cols = torch.tensor([4,0])\n",
        "\n",
        "print(x)\n",
        "print(x[rows, cols]) # Get the second row fifth column and first row first column"
      ],
      "metadata": {
        "colab": {
          "base_uri": "https://localhost:8080/"
        },
        "id": "J1orccrnc21r",
        "outputId": "37da685c-52ab-4500-8967-b4664388df92"
      },
      "execution_count": 22,
      "outputs": [
        {
          "output_type": "stream",
          "name": "stdout",
          "text": [
            "tensor([2, 5, 8])\n",
            "tensor([[0.2214, 0.2200, 0.1379, 0.7812, 0.2708],\n",
            "        [0.2632, 0.9251, 0.0706, 0.5818, 0.6310],\n",
            "        [0.4344, 0.1265, 0.5393, 0.2553, 0.4777]])\n",
            "tensor([0.6310, 0.2214])\n"
          ]
        }
      ]
    },
    {
      "cell_type": "code",
      "source": [
        "# More advance indexing\n",
        "x = torch.arange(10)\n",
        "\n",
        "print(x[(x < 2) | (x > 8)]) # Result 0,1,9\n",
        "print(x[x.remainder(2) == 0])"
      ],
      "metadata": {
        "colab": {
          "base_uri": "https://localhost:8080/"
        },
        "id": "20PmJXfbdGgI",
        "outputId": "9dc18b58-2e23-4715-c894-ede1607860bf"
      },
      "execution_count": 25,
      "outputs": [
        {
          "output_type": "stream",
          "name": "stdout",
          "text": [
            "tensor([0, 1, 9])\n",
            "tensor([0, 2, 4, 6, 8])\n"
          ]
        }
      ]
    },
    {
      "cell_type": "code",
      "source": [
        "# Useful operations for indexing\n",
        "\n",
        "# where\n",
        "print(\n",
        "    torch.where(x > 5, x, 3*x)\n",
        ")\n",
        "\n",
        "# unique\n",
        "x = torch.tensor([1,1,1,1,2,3,3,3,4])\n",
        "print(x.unique())\n",
        "\n",
        "# dimension\n",
        "print(\n",
        "    x.ndimension()\n",
        ")\n",
        "\n",
        "# numel\n",
        "x = torch.rand((2,4))\n",
        "print(\n",
        "    x.numel()\n",
        ") # The number of elements in x (in this case it's trivial because it's just a vector)\n",
        "\n"
      ],
      "metadata": {
        "colab": {
          "base_uri": "https://localhost:8080/"
        },
        "id": "o6gS-_-leg9l",
        "outputId": "c8c34b71-2067-41e7-ec40-f4f76f37f665"
      },
      "execution_count": 29,
      "outputs": [
        {
          "output_type": "stream",
          "name": "stdout",
          "text": [
            "tensor([ 0,  3,  6,  9, 12, 15,  6,  7,  8,  9])\n",
            "tensor([1, 2, 3, 4])\n",
            "1\n",
            "8\n"
          ]
        }
      ]
    },
    {
      "cell_type": "markdown",
      "source": [
        "---\n",
        "### 4. Tensor Reshaping"
      ],
      "metadata": {
        "id": "G4u489TqgD_j"
      }
    },
    {
      "cell_type": "code",
      "source": [
        "# Tensor 1D 9 element\n",
        "x = torch.arange(9)\n",
        "print(x)"
      ],
      "metadata": {
        "colab": {
          "base_uri": "https://localhost:8080/"
        },
        "id": "XK1lobjgfjxU",
        "outputId": "15b2757b-b0b2-4007-e7d9-1bf04d5f4924"
      },
      "execution_count": 39,
      "outputs": [
        {
          "output_type": "stream",
          "name": "stdout",
          "text": [
            "tensor([0, 1, 2, 3, 4, 5, 6, 7, 8])\n"
          ]
        }
      ]
    },
    {
      "cell_type": "code",
      "source": [
        "# ------------------- VIEW ------------------------------\n",
        "\n",
        "# view() to (3,3)\n",
        "print(f\"Continues:{x.is_contiguous()}\")\n",
        "x_3x3 = x.view(3,3)\n",
        "print(x_3x3)"
      ],
      "metadata": {
        "colab": {
          "base_uri": "https://localhost:8080/"
        },
        "id": "D8_4paMhip7d",
        "outputId": "a7800000-86cc-4f5d-a209-dc1fad6cbdc8"
      },
      "execution_count": 40,
      "outputs": [
        {
          "output_type": "stream",
          "name": "stdout",
          "text": [
            "Continues:True\n",
            "tensor([[0, 1, 2],\n",
            "        [3, 4, 5],\n",
            "        [6, 7, 8]])\n"
          ]
        }
      ]
    },
    {
      "cell_type": "markdown",
      "source": [
        "-> View() chỉ làm việc với tensor liên tục"
      ],
      "metadata": {
        "id": "B8W8qNd8jvMb"
      }
    },
    {
      "cell_type": "code",
      "source": [
        "# --------------------RESHAPE----------------------\n",
        "x_3x3 = x.reshape(3,3)\n",
        "print(x_3x3)"
      ],
      "metadata": {
        "colab": {
          "base_uri": "https://localhost:8080/"
        },
        "id": "A9GoeLIajnF2",
        "outputId": "4ea491ab-a23c-4864-8f33-9f3e1ea7eece"
      },
      "execution_count": 41,
      "outputs": [
        {
          "output_type": "stream",
          "name": "stdout",
          "text": [
            "tensor([[0, 1, 2],\n",
            "        [3, 4, 5],\n",
            "        [6, 7, 8]])\n"
          ]
        }
      ]
    },
    {
      "cell_type": "markdown",
      "source": [
        "-> reshape() giống view, nhưng nó có thể làm việc với tensor không liên tục nhờ việc copy qua bộ nhớ để nó liên tục"
      ],
      "metadata": {
        "id": "DTu-XRvskGWE"
      }
    },
    {
      "cell_type": "code",
      "source": [
        "# -----------------TRANSPOSE----------------------\n",
        "y = x_3x3.t()\n",
        "print(y.is_contiguous())\n",
        "print(y)\n",
        "\n",
        "# Lúc này tensor không liên tục -> dùng view sẽ báo lỗi\n",
        "try:\n",
        "  print(y.view(9))\n",
        "except Exception as e:\n",
        "  print(e)\n",
        "# Muốn dùng view phải chuyển nó liên tục trước\n",
        "print(y.contiguous().view(9))"
      ],
      "metadata": {
        "colab": {
          "base_uri": "https://localhost:8080/"
        },
        "id": "WOjqTRVQkCr5",
        "outputId": "d9a18447-b925-4c2f-fe2d-0ab14f46fcb5"
      },
      "execution_count": 43,
      "outputs": [
        {
          "output_type": "stream",
          "name": "stdout",
          "text": [
            "False\n",
            "tensor([[0, 3, 6],\n",
            "        [1, 4, 7],\n",
            "        [2, 5, 8]])\n",
            "view size is not compatible with input tensor's size and stride (at least one dimension spans across two contiguous subspaces). Use .reshape(...) instead.\n",
            "tensor([0, 3, 6, 1, 4, 7, 2, 5, 8])\n"
          ]
        }
      ]
    },
    {
      "cell_type": "code",
      "source": [
        "# ---------------- CAT TWO TENSOR-----------------------\n",
        "x1 = torch.rand((2,5))\n",
        "x2 = torch.rand((2,5))\n",
        "\n",
        "# Cat theo chiều ngang - dim = 0 - shape 4x5\n",
        "print(torch.cat((x1,x2), dim = 0))\n",
        "\n",
        "# Cat theo chiều dọc - dim = 1 - shape 2x10\n",
        "print(torch.cat((x1,x2), dim = 1))"
      ],
      "metadata": {
        "colab": {
          "base_uri": "https://localhost:8080/"
        },
        "id": "WlMmlDmtkZUM",
        "outputId": "139c2dca-ba4c-45a9-acec-b3f6dfe61c23"
      },
      "execution_count": 53,
      "outputs": [
        {
          "output_type": "stream",
          "name": "stdout",
          "text": [
            "tensor([[0.3351, 0.7853, 0.7003, 0.2305, 0.2550],\n",
            "        [0.0225, 0.4304, 0.5732, 0.4298, 0.7555],\n",
            "        [0.8798, 0.3105, 0.0714, 0.5414, 0.3200],\n",
            "        [0.9712, 0.2932, 0.1045, 0.0161, 0.3567]])\n",
            "tensor([[0.3351, 0.7853, 0.7003, 0.2305, 0.2550, 0.8798, 0.3105, 0.0714, 0.5414,\n",
            "         0.3200],\n",
            "        [0.0225, 0.4304, 0.5732, 0.4298, 0.7555, 0.9712, 0.2932, 0.1045, 0.0161,\n",
            "         0.3567]])\n"
          ]
        }
      ]
    },
    {
      "cell_type": "code",
      "source": [
        "# -------------UNROLL TENSOR TO 1D---------------------\n",
        "print(f\"Contiguous: {x1.is_contiguous()}\")\n",
        "z = x1.view(-1)\n",
        "print(z)\n"
      ],
      "metadata": {
        "colab": {
          "base_uri": "https://localhost:8080/"
        },
        "id": "rCRg6HoElNDe",
        "outputId": "264ddbc1-257e-4d1a-c144-3e477ef33f98"
      },
      "execution_count": 54,
      "outputs": [
        {
          "output_type": "stream",
          "name": "stdout",
          "text": [
            "Contiguous: True\n",
            "tensor([0.3351, 0.7853, 0.7003, 0.2305, 0.2550, 0.0225, 0.4304, 0.5732, 0.4298,\n",
            "        0.7555])\n"
          ]
        }
      ]
    },
    {
      "cell_type": "markdown",
      "source": [
        "> view(-1) chuyển mọi phần tử của tensor thành vector 1 chiều."
      ],
      "metadata": {
        "id": "DHQ2NQISn5_W"
      }
    },
    {
      "cell_type": "code",
      "source": [
        "# Thay đổi hình dạng giữ nguyên một chiều\n",
        "batch = 64\n",
        "x = torch.rand((batch, 2,5))\n",
        "print(x.shape)\n",
        "z = x.view((batch, -1))\n",
        "print(z.shape)"
      ],
      "metadata": {
        "colab": {
          "base_uri": "https://localhost:8080/"
        },
        "id": "AvqQstF7m0WW",
        "outputId": "0d2a5df7-7564-44cb-dc13-dc275dcd48c9"
      },
      "execution_count": 55,
      "outputs": [
        {
          "output_type": "stream",
          "name": "stdout",
          "text": [
            "torch.Size([64, 2, 5])\n",
            "torch.Size([64, 10])\n"
          ]
        }
      ]
    },
    {
      "cell_type": "markdown",
      "source": [
        "> Tạo tensor 3 chiều: batch=64, mỗi batch có 2x5.\n",
        "->  view(batch, -1) chuyển mỗi batch thành vector 10 phần tử."
      ],
      "metadata": {
        "id": "7iNUn3FRn94R"
      }
    },
    {
      "cell_type": "code",
      "source": [
        "\n",
        "# Hoán cị các chiều của tensor\n",
        "print(x[0])\n",
        "z = x.permute(0,2,1)\n",
        "print(z[0])"
      ],
      "metadata": {
        "colab": {
          "base_uri": "https://localhost:8080/"
        },
        "id": "57bbSWUJmwyl",
        "outputId": "c372be7a-a922-4f2f-cb14-e071b15c989b"
      },
      "execution_count": 61,
      "outputs": [
        {
          "output_type": "stream",
          "name": "stdout",
          "text": [
            "tensor([[0.4596, 0.2711, 0.7176, 0.0451, 0.0335],\n",
            "        [0.3680, 0.0531, 0.4322, 0.6605, 0.2232]])\n",
            "tensor([[0.4596, 0.3680],\n",
            "        [0.2711, 0.0531],\n",
            "        [0.7176, 0.4322],\n",
            "        [0.0451, 0.6605],\n",
            "        [0.0335, 0.2232]])\n"
          ]
        }
      ]
    },
    {
      "cell_type": "markdown",
      "source": [
        "> Đổi vị trí các chiều: từ (batch, 2, 5) thành (batch, 5, 2).\n",
        "\n",
        "> permute cho phép sắp xếp lại thứ tự các chiều tuỳ ý."
      ],
      "metadata": {
        "id": "M_rYF8s4oLph"
      }
    },
    {
      "cell_type": "code",
      "source": [
        "# Cắt tensor thành nhiều phần theo chiều nhất định\n",
        "print(x.shape)\n",
        "z = torch.chunk(x, chunks = 2, dim = 1)\n",
        "print(z[0].shape)\n",
        "print(z[1].shape)"
      ],
      "metadata": {
        "colab": {
          "base_uri": "https://localhost:8080/"
        },
        "id": "ou2Mg0PdoJUl",
        "outputId": "266457e7-be2d-41f7-b5f8-a9aadc3f0222"
      },
      "execution_count": 64,
      "outputs": [
        {
          "output_type": "stream",
          "name": "stdout",
          "text": [
            "torch.Size([64, 2, 5])\n",
            "torch.Size([64, 1, 5])\n",
            "torch.Size([64, 1, 5])\n"
          ]
        }
      ]
    },
    {
      "cell_type": "code",
      "source": [
        "# Thêm chiều mới unsqueeze\n",
        "x = torch.arange(10)\n",
        "print(x.shape)\n",
        "print(x.unsqueeze(0).shape) # 1 x 10\n",
        "print(x.unsqueeze(1).shape) # 10 x 1"
      ],
      "metadata": {
        "colab": {
          "base_uri": "https://localhost:8080/"
        },
        "id": "A_NBIu6cowNU",
        "outputId": "8f5934a2-4c44-4893-e161-bd651f8083d6"
      },
      "execution_count": 65,
      "outputs": [
        {
          "output_type": "stream",
          "name": "stdout",
          "text": [
            "torch.Size([10])\n",
            "torch.Size([1, 10])\n",
            "torch.Size([10, 1])\n"
          ]
        }
      ]
    },
    {
      "cell_type": "markdown",
      "source": [
        "- unsqueeze(0): Thêm chiều ở đầu, từ [10] thành [1, 10].\n",
        "- unsqueeze(1): Thêm chiều ở sau, từ [10] thành [10, 1]."
      ],
      "metadata": {
        "id": "YtRPsFyxs9R_"
      }
    },
    {
      "cell_type": "code",
      "source": [
        "# Loại bỏ chiều đơn\n",
        "\n",
        "x = torch.arange(10).unsqueeze(0).unsqueeze(1)  # Shape: [1, 1, 10]\n",
        "print(x)\n",
        "z = x.squeeze(1)  # Trả về [1, 10]\n",
        "print(z)"
      ],
      "metadata": {
        "colab": {
          "base_uri": "https://localhost:8080/"
        },
        "id": "_XaxVFW4srMN",
        "outputId": "186cf465-0f93-4840-e83b-65ab862891e7"
      },
      "execution_count": 73,
      "outputs": [
        {
          "output_type": "stream",
          "name": "stdout",
          "text": [
            "tensor([[[0, 1, 2, 3, 4, 5, 6, 7, 8, 9]]])\n",
            "tensor([[0, 1, 2, 3, 4, 5, 6, 7, 8, 9]])\n"
          ]
        }
      ]
    },
    {
      "cell_type": "code",
      "source": [
        "!git clone https://github.com/vdnghia03/Deep-Learning.git"
      ],
      "metadata": {
        "colab": {
          "base_uri": "https://localhost:8080/"
        },
        "id": "fvCDn3BCtPTO",
        "outputId": "665807f6-9086-4760-cb87-396c595d9eff"
      },
      "execution_count": 74,
      "outputs": [
        {
          "output_type": "stream",
          "name": "stdout",
          "text": [
            "Cloning into 'Deep-Learning'...\n",
            "remote: Enumerating objects: 86, done.\u001b[K\n",
            "remote: Counting objects: 100% (86/86), done.\u001b[K\n",
            "remote: Compressing objects: 100% (78/78), done.\u001b[K\n",
            "remote: Total 86 (delta 28), reused 3 (delta 0), pack-reused 0 (from 0)\u001b[K\n",
            "Receiving objects: 100% (86/86), 3.56 MiB | 9.74 MiB/s, done.\n",
            "Resolving deltas: 100% (28/28), done.\n"
          ]
        }
      ]
    },
    {
      "cell_type": "code",
      "source": [
        "!find / -name \"PT1_Tensor_Basic.ipynb\" 2>/dev/null\n"
      ],
      "metadata": {
        "id": "OakMMypSxGe7"
      },
      "execution_count": 79,
      "outputs": []
    },
    {
      "cell_type": "code",
      "source": [],
      "metadata": {
        "id": "rSQbCyy9xPB7"
      },
      "execution_count": null,
      "outputs": []
    }
  ]
}