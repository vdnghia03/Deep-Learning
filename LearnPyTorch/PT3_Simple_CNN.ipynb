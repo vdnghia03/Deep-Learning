{
  "nbformat": 4,
  "nbformat_minor": 0,
  "metadata": {
    "colab": {
      "provenance": [],
      "gpuType": "T4"
    },
    "kernelspec": {
      "name": "python3",
      "display_name": "Python 3"
    },
    "language_info": {
      "name": "python"
    },
    "accelerator": "GPU"
  },
  "cells": [
    {
      "cell_type": "markdown",
      "source": [
        "## Simple CNN\n",
        "\n",
        "A simple walkthrough of how to code a convolutional neural network (CNN)\n",
        "using the PyTorch library. For demonstration we train it on the very\n",
        "common MNIST dataset of handwritten digits. In this code we go through\n",
        "how to create the network as well as initialize a loss function, optimizer,\n",
        "check accuracy and more."
      ],
      "metadata": {
        "id": "Mut5txhnItor"
      }
    },
    {
      "cell_type": "code",
      "execution_count": 27,
      "metadata": {
        "id": "X9EIEsyZIWfi"
      },
      "outputs": [],
      "source": [
        "# Import\n",
        "import torch\n",
        "import torch.nn as nn\n",
        "import torch.optim as optim\n",
        "import torch.nn.functional as F\n",
        "from torch.utils.data import DataLoader, random_split\n",
        "import torchvision.datasets as datasets\n",
        "import torchvision.transforms as transforms\n",
        "from tqdm import tqdm"
      ]
    },
    {
      "cell_type": "markdown",
      "source": [
        "## Chuẩn bị dữ liệu\n",
        "\n",
        "---"
      ],
      "metadata": {
        "id": "WokoZpJ4RCHN"
      }
    },
    {
      "cell_type": "code",
      "source": [
        "\n",
        "train_dataset = datasets.MNIST(root='dataset/', train=True, transform=transforms.ToTensor(), download=True)\n",
        "test_dataset = datasets.MNIST(root='dataset/', train=False, transform=transforms.ToTensor(), download=True)\n",
        "\n",
        "# Chia train thành train_val_dataset: 80% và val_dataset: 20%\n",
        "len_train_dataset = int(len(train_dataset) * 0.8)\n",
        "len_val_dataset = len(train_dataset) - len_train_dataset\n",
        "\n",
        "train_dataset, val_dataset = random_split(train_dataset, [len_train_dataset, len_val_dataset])\n",
        "\n",
        "# Tạo DataLoader\n",
        "train_loader = DataLoader(train_dataset, batch_size=64, shuffle=True)\n",
        "val_loader = DataLoader(val_dataset, batch_size=64, shuffle=False)\n",
        "test_loader = DataLoader(test_dataset, batch_size=64, shuffle=False)\n"
      ],
      "metadata": {
        "id": "P6nmJcWhQ-mq"
      },
      "execution_count": 28,
      "outputs": []
    },
    {
      "cell_type": "code",
      "source": [
        "# Get the first batch from the test_loader\n",
        "first_batch = next(iter(test_loader))\n",
        "\n",
        "# You can then inspect the batch, for example, print the shape of the images and labels\n",
        "images, labels = first_batch\n",
        "print(\"Shape of images in the first batch:\", images.shape)\n",
        "print(\"Shape of labels in the first batch:\", labels.shape)"
      ],
      "metadata": {
        "colab": {
          "base_uri": "https://localhost:8080/"
        },
        "id": "8P_-iHeZSDrN",
        "outputId": "3d1e1eae-3dfd-455b-c918-5ff2f41e6b2a"
      },
      "execution_count": 29,
      "outputs": [
        {
          "output_type": "stream",
          "name": "stdout",
          "text": [
            "Shape of images in the first batch: torch.Size([64, 1, 28, 28])\n",
            "Shape of labels in the first batch: torch.Size([64])\n"
          ]
        }
      ]
    },
    {
      "cell_type": "markdown",
      "source": [
        "## Xây dựng mô hình\n",
        "---"
      ],
      "metadata": {
        "id": "xWWcj2C_Su3M"
      }
    },
    {
      "cell_type": "code",
      "source": [
        "class CNN(nn.Module):\n",
        "  def __init__(self, in_chanels=1, num_classes=10):\n",
        "    super(CNN, self).__init__()\n",
        "    self.conv1 = nn.Conv2d(\n",
        "        in_channels = in_chanels\n",
        "        , out_channels = 8\n",
        "        , kernel_size = 3\n",
        "        , padding=1\n",
        "        , stride=1\n",
        "    )\n",
        "    self.pool = nn.MaxPool2d(kernel_size=2, stride=2)\n",
        "    self.conv2 = nn.Conv2d(\n",
        "        in_channels=8\n",
        "        , out_channels=16\n",
        "        , kernel_size=3\n",
        "        , padding=1\n",
        "        , stride=1\n",
        "    )\n",
        "    self.fc1 = nn.Linear(16*7*7, num_classes)\n",
        "\n",
        "  def forward(self, x):\n",
        "    x = F.relu(self.conv1(x))\n",
        "    x = self.pool(x)\n",
        "    x = F.relu(self.conv2(x))\n",
        "    x = self.pool(x)\n",
        "    x = x.reshape(x.shape[0], -1)\n",
        "    x = self.fc1(x)\n",
        "    return x"
      ],
      "metadata": {
        "id": "Pfe_8KbISKOW"
      },
      "execution_count": 30,
      "outputs": []
    },
    {
      "cell_type": "markdown",
      "source": [
        "## Train mô hình và tinh chỉnh tham số với tập val"
      ],
      "metadata": {
        "id": "4uGKwa2dUtaL"
      }
    },
    {
      "cell_type": "code",
      "source": [
        "# Khai báo parameter\n",
        "device = torch.device('cuda' if torch.cuda.is_available() else 'cpu')\n",
        "in_channels = 1\n",
        "num_classes = 10\n",
        "learning_rate = 0.01\n",
        "batch_size = 64\n",
        "num_epochs = 5\n",
        "\n",
        "# Khai báo mô hình, hàm loss và optimizer\n",
        "model = CNN(in_chanels=in_channels, num_classes = num_classes).to(device)\n",
        "criterion = nn.CrossEntropyLoss() # Loss\n",
        "optimizer = optim.Adam(model.parameters(), lr=0.001) # Optimizer\n"
      ],
      "metadata": {
        "id": "zPz8NmaEUrCb"
      },
      "execution_count": 38,
      "outputs": []
    },
    {
      "cell_type": "code",
      "source": [
        "# Hàm check accuracy trên val\n",
        "def check_accuracy(loader, model):\n",
        "  num_correct = 0\n",
        "  num_samples = 0\n",
        "  model.eval()\n",
        "\n",
        "  with torch.no_grad():\n",
        "    for x, y in loader:\n",
        "      # Use cuda if possible\n",
        "      x = x.to(device=device)\n",
        "      y = y.to(device=device)\n",
        "\n",
        "      scores = model(x)\n",
        "      _, predictions = scores.max(1)\n",
        "      num_correct += (predictions == y).sum()\n",
        "      num_samples += predictions.size(0)\n",
        "\n",
        "  return num_correct/num_samples"
      ],
      "metadata": {
        "id": "CJxRahtEV_oz"
      },
      "execution_count": 39,
      "outputs": []
    },
    {
      "cell_type": "code",
      "source": [
        "# Train mô hình\n",
        "\n",
        "train_accuracies = []\n",
        "val_accuracies = []\n",
        "train_losses = []\n",
        "\n",
        "for epoch in range(num_epochs):\n",
        "  running_loss = 0\n",
        "  for batch_id, (data, targets) in enumerate(tqdm(train_loader)):\n",
        "    data = data.to(device=device)\n",
        "    targets = targets.to(device=device)\n",
        "\n",
        "    # Reshape data\n",
        "    # data = data.reshape(data.shape[0], -1) # Removed this line\n",
        "\n",
        "    # Forward\n",
        "    scores = model(data)\n",
        "    loss = criterion(scores, targets)\n",
        "\n",
        "    # Backward\n",
        "    optimizer.zero_grad()\n",
        "    loss.backward()\n",
        "\n",
        "    # Gradient\n",
        "    optimizer.step()\n",
        "\n",
        "    running_loss += loss.item()\n",
        "\n",
        "  train_acc = check_accuracy(train_loader, model)\n",
        "  val_acc = check_accuracy(val_loader, model)  # test_loader là validation set\n",
        "  avg_train_loss = running_loss / len(train_loader)\n",
        "  train_accuracies.append(train_acc.item())\n",
        "  val_accuracies.append(val_acc.item())\n",
        "  train_losses.append(avg_train_loss)\n",
        "  print(f\"Epoch [{epoch+1}/{num_epochs}] - Train Loss: {avg_train_loss:.4f} - Train Acc: {train_acc*100:.2f}% - Val Acc: {val_acc*100:.2f}%\")"
      ],
      "metadata": {
        "colab": {
          "base_uri": "https://localhost:8080/"
        },
        "id": "35py7MbmVwj5",
        "outputId": "a5e0ab34-ffe8-47e6-8152-26814f3bdf6d"
      },
      "execution_count": 40,
      "outputs": [
        {
          "output_type": "stream",
          "name": "stderr",
          "text": [
            "100%|██████████| 750/750 [00:16<00:00, 45.01it/s]\n"
          ]
        },
        {
          "output_type": "stream",
          "name": "stdout",
          "text": [
            "Epoch [1/5] - Train Loss: 0.3867 - Train Acc: 96.01% - Val Acc: 95.74%\n"
          ]
        },
        {
          "output_type": "stream",
          "name": "stderr",
          "text": [
            "100%|██████████| 750/750 [00:16<00:00, 44.64it/s]\n"
          ]
        },
        {
          "output_type": "stream",
          "name": "stdout",
          "text": [
            "Epoch [2/5] - Train Loss: 0.1141 - Train Acc: 97.47% - Val Acc: 97.32%\n"
          ]
        },
        {
          "output_type": "stream",
          "name": "stderr",
          "text": [
            "100%|██████████| 750/750 [00:16<00:00, 46.57it/s]\n"
          ]
        },
        {
          "output_type": "stream",
          "name": "stdout",
          "text": [
            "Epoch [3/5] - Train Loss: 0.0827 - Train Acc: 97.99% - Val Acc: 97.70%\n"
          ]
        },
        {
          "output_type": "stream",
          "name": "stderr",
          "text": [
            "100%|██████████| 750/750 [00:17<00:00, 44.07it/s]\n"
          ]
        },
        {
          "output_type": "stream",
          "name": "stdout",
          "text": [
            "Epoch [4/5] - Train Loss: 0.0683 - Train Acc: 98.23% - Val Acc: 97.92%\n"
          ]
        },
        {
          "output_type": "stream",
          "name": "stderr",
          "text": [
            "100%|██████████| 750/750 [00:16<00:00, 46.40it/s]\n"
          ]
        },
        {
          "output_type": "stream",
          "name": "stdout",
          "text": [
            "Epoch [5/5] - Train Loss: 0.0589 - Train Acc: 98.70% - Val Acc: 98.10%\n"
          ]
        }
      ]
    },
    {
      "cell_type": "markdown",
      "source": [
        "- Vẽ biểu đồ accuracy của hai đường train và validate qua các epoch"
      ],
      "metadata": {
        "id": "foURfRphcoVl"
      }
    },
    {
      "cell_type": "code",
      "source": [
        "import matplotlib.pyplot as plt\n",
        "\n",
        "# Vẽ biểu đồ accuracy\n",
        "plt.figure(figsize=(8,6))\n",
        "plt.plot(range(1, num_epochs+1), train_accuracies, label='Train Accuracy')\n",
        "plt.plot(range(1, num_epochs+1), val_accuracies, label='Validation Accuracy')\n",
        "plt.xlabel('Epoch')\n",
        "plt.ylabel('Accuracy')\n",
        "plt.title('Train vs. Validation Accuracy')\n",
        "plt.legend()\n",
        "plt.grid(True)\n",
        "plt.show()"
      ],
      "metadata": {
        "colab": {
          "base_uri": "https://localhost:8080/",
          "height": 482
        },
        "id": "JUsHk27Ncvvh",
        "outputId": "d0eb2652-c87d-4c96-be75-a6bf68f44534"
      },
      "execution_count": 41,
      "outputs": [
        {
          "output_type": "display_data",
          "data": {
            "text/plain": [
              "<Figure size 800x600 with 1 Axes>"
            ],
            "image/png": "[encoded data removed]"
          },
          "metadata": {}
        }
      ]
    },
    {
      "cell_type": "markdown",
      "source": [
        "## Test Model\n",
        "---"
      ],
      "metadata": {
        "id": "pq8c0fcNcdw5"
      }
    },
    {
      "cell_type": "code",
      "source": [
        "print(f\"Accuracy on training set: {check_accuracy(train_loader, model)*100:.2f}\")\n",
        "print(f\"Accuracy on test set: {check_accuracy(test_loader, model)*100:.2f}\")"
      ],
      "metadata": {
        "colab": {
          "base_uri": "https://localhost:8080/"
        },
        "id": "UPoIXCc0ZmN3",
        "outputId": "383fd2fd-d18e-4006-be72-5348101ae88c"
      },
      "execution_count": 42,
      "outputs": [
        {
          "output_type": "stream",
          "name": "stdout",
          "text": [
            "Accuracy on training set: 98.70\n",
            "Accuracy on test set: 98.29\n"
          ]
        }
      ]
    },
    {
      "cell_type": "code",
      "source": [],
      "metadata": {
        "id": "aVSuXk05cki6"
      },
      "execution_count": null,
      "outputs": []
    }
  ]
}