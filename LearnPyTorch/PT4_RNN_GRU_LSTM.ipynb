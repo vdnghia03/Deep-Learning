{
  "nbformat": 4,
  "nbformat_minor": 0,
  "metadata": {
    "colab": {
      "provenance": [],
      "gpuType": "T4"
    },
    "kernelspec": {
      "name": "python3",
      "display_name": "Python 3"
    },
    "language_info": {
      "name": "python"
    },
    "accelerator": "GPU"
  },
  "cells": [
    {
      "cell_type": "markdown",
      "source": [
        "## RNN LSTM"
      ],
      "metadata": {
        "id": "HdD33lHH3M7Q"
      }
    },
    {
      "cell_type": "code",
      "execution_count": 1,
      "metadata": {
        "id": "oHBw9LDW39o_"
      },
      "outputs": [],
      "source": [
        "# Import thư viện pytorch\n",
        "# import torch\n",
        "# import torch as nn\n",
        "# import torchvision\n",
        "# import torchvision.transforms as transforms\n",
        "# import torch.nn.functional as F\n",
        "# from torch import optim\n",
        "# # DataLoader, split\n",
        "# from torch.utils.data import DataLoader, random_split\n",
        "# # Dataset\n",
        "# from torchvision.datasets import MNIST\n",
        "\n",
        "# Imports\n",
        "import torch\n",
        "import torch.nn.functional as F  # Parameterless functions, like (some) activation functions\n",
        "import torchvision.datasets as datasets  # Standard datasets\n",
        "import torchvision.transforms as transforms  # Transformations we can perform on our dataset for augmentation\n",
        "from torch import optim  # For optimizers like SGD, Adam, etc.\n",
        "from torch import nn  # All neural network modules\n",
        "from torch.utils.data import (\n",
        "    DataLoader, random_split\n",
        ")  # Gives easier dataset managment by creating mini batches etc.\n",
        "from tqdm import tqdm  # For a nice progress bar!"
      ]
    },
    {
      "cell_type": "markdown",
      "source": [
        "### Chuẩn bị dữ liệu"
      ],
      "metadata": {
        "id": "ZhVSHHrg4LwG"
      }
    },
    {
      "cell_type": "code",
      "source": [
        "# train_dataset = datasets.MNIST(root='./root', train = True, download = True, transform = transforms.ToTensor())\n",
        "# test_dataset = datasets.MNIST(root='./root', train = False, download = True, transform = transforms.ToTensor())\n",
        "\n",
        "# train_loader = DataLoader(train_dataset, batch_size = 64, shuffle = True)\n",
        "# test_loader = DataLoader(test_dataset, batch_size = 64, shuffle = True)\n",
        "\n",
        "train_full_dataset = datasets.MNIST(root='dataset/', train=True, transform=transforms.ToTensor(), download=True)\n",
        "test_dataset = datasets.MNIST(root='dataset/', train=False, transform=transforms.ToTensor(), download=True)\n",
        "\n",
        "# Chia train thành train_val_dataset: 80% và val_dataset: 20%\n",
        "len_train_dataset = int(len(train_full_dataset) * 0.7)\n",
        "len_val_dataset = len(train_full_dataset) - len_train_dataset\n",
        "\n",
        "train_dataset, val_dataset = random_split(train_full_dataset, [len_train_dataset, len_val_dataset])\n",
        "\n",
        "# Tạo DataLoader\n",
        "train_full_loader = DataLoader(train_full_dataset, batch_size=64, shuffle=True)\n",
        "train_loader = DataLoader(train_dataset, batch_size=64, shuffle=True)\n",
        "val_loader = DataLoader(val_dataset, batch_size=64, shuffle=False)\n",
        "test_loader = DataLoader(test_dataset, batch_size=64, shuffle=False)"
      ],
      "metadata": {
        "id": "oP0xPi1j4KVs"
      },
      "execution_count": 2,
      "outputs": []
    },
    {
      "cell_type": "markdown",
      "source": [
        "### Tạo mô hình RNN"
      ],
      "metadata": {
        "id": "vUx02EDO5Hbk"
      }
    },
    {
      "cell_type": "code",
      "source": [
        "device = torch.device('cuda' if torch.cuda.is_available() else 'cpu')\n",
        "print(device)"
      ],
      "metadata": {
        "colab": {
          "base_uri": "https://localhost:8080/"
        },
        "id": "XpM5tj3z9mpH",
        "outputId": "57e10ee4-eea7-4cd3-c884-f6a8c86c828c"
      },
      "execution_count": 3,
      "outputs": [
        {
          "output_type": "stream",
          "name": "stdout",
          "text": [
            "cuda\n"
          ]
        }
      ]
    },
    {
      "cell_type": "code",
      "source": [
        "# Parameter\n",
        "input_size = 28\n",
        "sequence_lenght = 28\n",
        "num_layers = 2\n",
        "hidden_size = 256\n",
        "num_classes = 10\n",
        "num_epochs = 5\n",
        "\n",
        "class RNN(nn.Module):\n",
        "  def __init__(self, input_size, hidden_size, num_layers, num_classes):\n",
        "    super(RNN, self).__init__()\n",
        "    self.input_size = input_size\n",
        "    self.hidden_size = hidden_size\n",
        "    self.num_layers = num_layers\n",
        "    self.rnn = nn.RNN(input_size, hidden_size, num_layers, batch_first = True)\n",
        "    self.fc1 = nn.Linear(hidden_size*sequence_lenght, num_classes)\n",
        "\n",
        "  # Forward\n",
        "  # x shape (batch_size, num_sequece, input_size)\n",
        "  def forward(self, x):\n",
        "    h0 = torch.zeros(self.num_layers, x.size(0), self.hidden_size).to(device) # Shape (num_layer, batch_size, hidden_size)\n",
        "\n",
        "    out,_ = self.rnn(x, h0) # Shape (batch_size, num_sequence, hidden_size)\n",
        "    out   = out.reshape(out.shape[0], -1) # shape (batch_size, sequence_lenght * hidden_size)\n",
        "    out = self.fc1(out) # shape (batch_size, input_size)\n",
        "    return out\n"
      ],
      "metadata": {
        "id": "SIM4g6lD5FH_"
      },
      "execution_count": 4,
      "outputs": []
    },
    {
      "cell_type": "markdown",
      "source": [
        "### Train mô hình"
      ],
      "metadata": {
        "id": "PwsXb-bF9tLo"
      }
    },
    {
      "cell_type": "code",
      "source": [
        "model = RNN(input_size, hidden_size, num_layers, num_classes).to(device = device)"
      ],
      "metadata": {
        "id": "IIkpZpr7_yu9"
      },
      "execution_count": 5,
      "outputs": []
    },
    {
      "cell_type": "code",
      "source": [
        "# Binary CrossEntropy Loss\n",
        "criterion = nn.CrossEntropyLoss()\n",
        "optimizer = optim.Adam(model.parameters(), lr = 0.001)"
      ],
      "metadata": {
        "id": "6gWqUb1Z9Mtt"
      },
      "execution_count": 6,
      "outputs": []
    },
    {
      "cell_type": "code",
      "source": [
        "def check_accuracy(loader, model):\n",
        "    num_correct = 0\n",
        "    num_samples = 0\n",
        "\n",
        "    # Set model to eval\n",
        "    model.eval()\n",
        "\n",
        "    with torch.no_grad():\n",
        "        for x, y in loader:\n",
        "            x = x.to(device=device).squeeze(1)\n",
        "            y = y.to(device=device)\n",
        "\n",
        "            scores = model(x)\n",
        "            _, predictions = scores.max(1)\n",
        "            num_correct += (predictions == y).sum()\n",
        "            num_samples += predictions.size(0)\n",
        "\n",
        "    # Toggle model back to train\n",
        "    model.train()\n",
        "    return num_correct / num_samples"
      ],
      "metadata": {
        "id": "rbMmDEHFDkbi"
      },
      "execution_count": 7,
      "outputs": []
    },
    {
      "cell_type": "code",
      "source": [
        "# epochs = 5\n",
        "# for epoch in range(epochs):\n",
        "#   for batch_idx, (data,label) in enumerate(tqdm(train_loader)):\n",
        "#     data = data.to(device).squeeze(1)\n",
        "#     label = label.to(device)\n",
        "\n",
        "#     # Forward\n",
        "#     out = model(data)\n",
        "#     loss = criterion(out, label)\n",
        "\n",
        "#     # Backward\n",
        "#     optimizer.zero_grad()\n",
        "#     loss.backward()\n",
        "\n",
        "#     # Update\n",
        "#     optimizer.step()\n",
        "\n",
        "# Train mô hình\n",
        "\n",
        "train_accuracies = []\n",
        "val_accuracies = []\n",
        "train_losses = []\n",
        "\n",
        "for epoch in range(num_epochs):\n",
        "  running_loss = 0\n",
        "  for batch_id, (data, targets) in enumerate(tqdm(train_loader)):\n",
        "    data = data.to(device=device).squeeze(1)\n",
        "    targets = targets.to(device=device)\n",
        "\n",
        "    # Reshape data\n",
        "    # data = data.reshape(data.shape[0], -1) # Removed this line\n",
        "\n",
        "    # Forward\n",
        "    scores = model(data)\n",
        "    loss = criterion(scores, targets)\n",
        "\n",
        "    # Backward\n",
        "    optimizer.zero_grad()\n",
        "    loss.backward()\n",
        "\n",
        "    # Gradient\n",
        "    optimizer.step()\n",
        "\n",
        "    running_loss += loss.item()\n",
        "\n",
        "  train_acc = check_accuracy(train_loader, model)\n",
        "  val_acc = check_accuracy(val_loader, model)  # test_loader là validation set\n",
        "  avg_train_loss = running_loss / len(train_loader)\n",
        "  train_accuracies.append(train_acc.item())\n",
        "  val_accuracies.append(val_acc.item())\n",
        "  train_losses.append(avg_train_loss)\n",
        "  print(f\"Epoch [{epoch+1}/{num_epochs}] - Train Loss: {avg_train_loss:.4f} - Train Acc: {train_acc*100:.2f}% - Val Acc: {val_acc*100:.2f}%\")\n"
      ],
      "metadata": {
        "colab": {
          "base_uri": "https://localhost:8080/"
        },
        "id": "Pt-WIgF9AEJL",
        "outputId": "9559aa59-7c07-4823-888f-684a26ee6300"
      },
      "execution_count": 8,
      "outputs": [
        {
          "output_type": "stream",
          "name": "stderr",
          "text": [
            "100%|██████████| 657/657 [00:07<00:00, 87.99it/s]\n"
          ]
        },
        {
          "output_type": "stream",
          "name": "stdout",
          "text": [
            "Epoch [1/5] - Train Loss: 0.3528 - Train Acc: 94.66% - Val Acc: 94.64%\n"
          ]
        },
        {
          "output_type": "stream",
          "name": "stderr",
          "text": [
            "100%|██████████| 657/657 [00:07<00:00, 90.86it/s]\n"
          ]
        },
        {
          "output_type": "stream",
          "name": "stdout",
          "text": [
            "Epoch [2/5] - Train Loss: 0.1639 - Train Acc: 96.10% - Val Acc: 96.22%\n"
          ]
        },
        {
          "output_type": "stream",
          "name": "stderr",
          "text": [
            "100%|██████████| 657/657 [00:06<00:00, 94.99it/s]\n"
          ]
        },
        {
          "output_type": "stream",
          "name": "stdout",
          "text": [
            "Epoch [3/5] - Train Loss: 0.1276 - Train Acc: 96.55% - Val Acc: 96.36%\n"
          ]
        },
        {
          "output_type": "stream",
          "name": "stderr",
          "text": [
            "100%|██████████| 657/657 [00:07<00:00, 86.68it/s]\n"
          ]
        },
        {
          "output_type": "stream",
          "name": "stdout",
          "text": [
            "Epoch [4/5] - Train Loss: 0.1149 - Train Acc: 96.41% - Val Acc: 96.05%\n"
          ]
        },
        {
          "output_type": "stream",
          "name": "stderr",
          "text": [
            "100%|██████████| 657/657 [00:07<00:00, 89.26it/s]\n"
          ]
        },
        {
          "output_type": "stream",
          "name": "stdout",
          "text": [
            "Epoch [5/5] - Train Loss: 0.1023 - Train Acc: 97.52% - Val Acc: 97.17%\n"
          ]
        }
      ]
    },
    {
      "cell_type": "code",
      "source": [
        "\n",
        "import matplotlib.pyplot as plt\n",
        "\n",
        "# Vẽ biểu đồ accuracy\n",
        "plt.figure(figsize=(8,6))\n",
        "plt.plot(range(1, num_epochs+1), train_accuracies, label='Train Accuracy')\n",
        "plt.plot(range(1, num_epochs+1), val_accuracies, label='Validation Accuracy')\n",
        "plt.xlabel('Epoch')\n",
        "plt.ylabel('Accuracy')\n",
        "plt.title('Train vs. Validation Accuracy')\n",
        "plt.legend()\n",
        "plt.grid(True)\n",
        "plt.show()"
      ],
      "metadata": {
        "colab": {
          "base_uri": "https://localhost:8080/",
          "height": 564
        },
        "id": "i4cNjCLHETKC",
        "outputId": "d8a99548-4e73-4ce7-9518-037a9deff6fc"
      },
      "execution_count": 9,
      "outputs": [
        {
          "output_type": "display_data",
          "data": {
            "text/plain": [
              "<Figure size 800x600 with 1 Axes>"
            ],
            "image/png": "[encoded data removed]"
          },
          "metadata": {}
        }
      ]
    },
    {
      "cell_type": "markdown",
      "source": [
        "### Check model"
      ],
      "metadata": {
        "id": "oQQMO57HCE6e"
      }
    },
    {
      "cell_type": "code",
      "source": [
        "\n",
        "\n",
        "\n",
        "print(f\"Accuracy FULL on training set: {check_accuracy(train_full_loader, model)*100:2f}\")\n",
        "print(f\"Accuracy on test set: {check_accuracy(test_loader, model)*100:.2f}\")"
      ],
      "metadata": {
        "colab": {
          "base_uri": "https://localhost:8080/"
        },
        "id": "_TNcwNfUCCvp",
        "outputId": "996f62c3-1b78-4105-e993-a8fe7e832fae"
      },
      "execution_count": 11,
      "outputs": [
        {
          "output_type": "stream",
          "name": "stdout",
          "text": [
            "Accuracy FULL on training set: 97.416672\n",
            "Accuracy on test set: 97.31\n"
          ]
        }
      ]
    },
    {
      "cell_type": "markdown",
      "source": [
        "### Dự đoán 1 giá trị bất kì"
      ],
      "metadata": {
        "id": "bDVfRnuHF165"
      }
    },
    {
      "cell_type": "code",
      "source": [
        "image = test_dataset[0][0][0]\n",
        "label = test_dataset[0][1]\n",
        "print(image.shape)\n",
        "\n",
        "print(f\"Label: {label}\")\n",
        "plt.imshow(image, cmap='gray')\n",
        "plt.show()\n"
      ],
      "metadata": {
        "colab": {
          "base_uri": "https://localhost:8080/",
          "height": 465
        },
        "id": "N8PLeWWBC_D7",
        "outputId": "454467eb-3e7e-49cb-e645-cde8742db531"
      },
      "execution_count": 12,
      "outputs": [
        {
          "output_type": "stream",
          "name": "stdout",
          "text": [
            "torch.Size([28, 28])\n",
            "Label: 7\n"
          ]
        },
        {
          "output_type": "display_data",
          "data": {
            "text/plain": [
              "<Figure size 640x480 with 1 Axes>"
            ],
            "image/png": "[encoded data removed]"
          },
          "metadata": {}
        }
      ]
    },
    {
      "cell_type": "code",
      "source": [
        "# Dự đoán\n",
        "predict = model(image.to(device).unsqueeze(0))\n",
        "\n",
        "print(image.to(device).unsqueeze(0).shape)\n",
        "print(predict)\n",
        "print(f\"Predict: {torch.argmax(predict)}\")\n"
      ],
      "metadata": {
        "colab": {
          "base_uri": "https://localhost:8080/"
        },
        "id": "yjA0Q-SZF-vh",
        "outputId": "ddc7f2b3-aff1-4da5-fb2d-92414518fcaf"
      },
      "execution_count": 13,
      "outputs": [
        {
          "output_type": "stream",
          "name": "stdout",
          "text": [
            "torch.Size([1, 28, 28])\n",
            "tensor([[ -9.1668,   1.2984,   1.3493,   2.1830,  -4.0237,  -2.3720, -13.1334,\n",
            "          17.6814,  -2.5072,   2.9826]], device='cuda:0',\n",
            "       grad_fn=<AddmmBackward0>)\n",
            "Predict: 7\n"
          ]
        }
      ]
    },
    {
      "cell_type": "markdown",
      "source": [
        "## LSTM"
      ],
      "metadata": {
        "id": "wwIOjt-f6Jpk"
      }
    },
    {
      "cell_type": "code",
      "source": [
        "class LSTM(nn.Module):\n",
        "  def __init__(self, input_size, hidden_size, num_layers, num_classes):\n",
        "    super(LSTM, self).__init__()\n",
        "    self.input_size = input_size\n",
        "    self.hidden_size = hidden_size\n",
        "    self.num_layers = num_layers\n",
        "    self.lstm = nn.LSTM(input_size, hidden_size, num_layers, batch_first = True)\n",
        "    self.fc = nn.Linear(hidden_size*sequence_lenght, num_classes)\n",
        "\n",
        "  def forward(self, x):\n",
        "    h0 = torch.zeros(self.num_layers, x.size(0), self.hidden_size).to(device)\n",
        "    c0 = torch.zeros(self.num_layers, x.size(0), self.hidden_size).to(device)\n",
        "\n",
        "    # Forward\n",
        "    out, _ = self.lstm(x, (h0,c0))\n",
        "\n",
        "    out = out.reshape(out.shape[0], -1)\n",
        "\n",
        "    out = self.fc(out)\n",
        "    return out"
      ],
      "metadata": {
        "id": "OxuEtfz7GNwt"
      },
      "execution_count": 14,
      "outputs": []
    },
    {
      "cell_type": "code",
      "source": [
        "model_lstm = LSTM(input_size, hidden_size, num_layers, num_classes).to(device)\n",
        "criterion = nn.CrossEntropyLoss()\n",
        "optimizer = optim.Adam(model_lstm.parameters(), lr = 0.005)"
      ],
      "metadata": {
        "id": "L7JdWAJg-F0u"
      },
      "execution_count": 15,
      "outputs": []
    },
    {
      "cell_type": "code",
      "source": [
        "for epoch in range(num_epochs):\n",
        "  for batch_idx, (data, targets) in enumerate(tqdm(train_loader)):\n",
        "    data = data.to(device = device).squeeze(1)\n",
        "    targets = targets.to(device = device)\n",
        "\n",
        "    # Forward\n",
        "    out = model_lstm(data)\n",
        "    loss = criterion(out, targets)\n",
        "\n",
        "    # Backward\n",
        "    optimizer.zero_grad()\n",
        "    loss.backward()\n",
        "\n",
        "    # Update weight\n",
        "    optimizer.step()"
      ],
      "metadata": {
        "colab": {
          "base_uri": "https://localhost:8080/"
        },
        "id": "UScJK0Lf9ahE",
        "outputId": "22ec5c42-831f-44ff-a096-4d69f98888da"
      },
      "execution_count": 16,
      "outputs": [
        {
          "output_type": "stream",
          "name": "stderr",
          "text": [
            "100%|██████████| 657/657 [00:07<00:00, 87.21it/s]\n",
            "100%|██████████| 657/657 [00:06<00:00, 94.56it/s]\n",
            "100%|██████████| 657/657 [00:07<00:00, 88.28it/s]\n",
            "100%|██████████| 657/657 [00:07<00:00, 87.34it/s]\n",
            "100%|██████████| 657/657 [00:06<00:00, 95.67it/s]\n"
          ]
        }
      ]
    },
    {
      "cell_type": "code",
      "source": [
        "# Check Model\n",
        "print(f\"Accuracy on training set: {check_accuracy(train_full_loader, model_lstm)*100:.2f}\")\n",
        "print(f\"Accuracy on test set: {check_accuracy(test_loader, model_lstm)*100:.2f}\")"
      ],
      "metadata": {
        "colab": {
          "base_uri": "https://localhost:8080/"
        },
        "id": "HS6raykU-O12",
        "outputId": "48a18f0d-ab77-45c6-c3c0-d4b05f5e9b8e"
      },
      "execution_count": 17,
      "outputs": [
        {
          "output_type": "stream",
          "name": "stdout",
          "text": [
            "Accuracy on training set: 98.89\n",
            "Accuracy on test set: 98.49\n"
          ]
        }
      ]
    },
    {
      "cell_type": "code",
      "source": [],
      "metadata": {
        "id": "71G4NCO6-axx"
      },
      "execution_count": null,
      "outputs": []
    }
  ]
}